{
  "nbformat": 4,
  "nbformat_minor": 0,
  "metadata": {
    "colab": {
      "name": "Untitled21.ipynb",
      "provenance": [],
      "include_colab_link": true
    },
    "kernelspec": {
      "name": "python3",
      "display_name": "Python 3"
    }
  },
  "cells": [
    {
      "cell_type": "markdown",
      "metadata": {
        "id": "view-in-github",
        "colab_type": "text"
      },
      "source": [
        "<a href=\"https://colab.research.google.com/github/Uliana-san/Japan/blob/master/Classwork%20synth%20analysis%20Karenina.ipynb\" target=\"_parent\"><img src=\"https://colab.research.google.com/assets/colab-badge.svg\" alt=\"Open In Colab\"/></a>"
      ]
    },
    {
      "cell_type": "code",
      "metadata": {
        "id": "4Mhnqj1pTI7c",
        "colab_type": "code",
        "colab": {
          "base_uri": "https://localhost:8080/",
          "height": 34
        },
        "outputId": "0a29c7cc-2a81-48b4-bb11-0cbc12a0cf37"
      },
      "source": [
        "# ячейка может выполняться долго, это нормально\n",
        "! pip3 install ufal.udpipe\n",
        "from ufal.udpipe import Model, Pipeline #импортируем нужные части из модуля"
      ],
      "execution_count": 25,
      "outputs": [
        {
          "output_type": "stream",
          "text": [
            "Requirement already satisfied: ufal.udpipe in /usr/local/lib/python3.6/dist-packages (1.2.0.3)\n"
          ],
          "name": "stdout"
        }
      ]
    },
    {
      "cell_type": "code",
      "metadata": {
        "id": "HyCzzUf_XxTV",
        "colab_type": "code",
        "colab": {
          "base_uri": "https://localhost:8080/",
          "height": 717
        },
        "outputId": "04cd427b-0647-46de-a4f5-603e96121f34"
      },
      "source": [
        "UDPIPE_MODEL_FN = \"model_ru.udpipe\"\n",
        "UDPIPE_MODEL_FN2 = \"model_syntagrus_ru.udpipe\"\n",
        "!wget -O {UDPIPE_MODEL_FN} https://github.com/jwijffels/udpipe.models.ud.2.0/blob/master/inst/udpipe-ud-2.0-170801/russian-ud-2.0-170801.udpipe?raw=true\n",
        "!wget -O {UDPIPE_MODEL_FN2} https://github.com/jwijffels/udpipe.models.ud.2.0/blob/master/inst/udpipe-ud-2.0-170801/russian-syntagrus-ud-2.0-170801.udpipe?raw=true"
      ],
      "execution_count": 26,
      "outputs": [
        {
          "output_type": "stream",
          "text": [
            "--2019-12-07 09:31:03--  https://github.com/jwijffels/udpipe.models.ud.2.0/blob/master/inst/udpipe-ud-2.0-170801/russian-ud-2.0-170801.udpipe?raw=true\n",
            "Resolving github.com (github.com)... 140.82.114.3\n",
            "Connecting to github.com (github.com)|140.82.114.3|:443... connected.\n",
            "HTTP request sent, awaiting response... 302 Found\n",
            "Location: https://github.com/jwijffels/udpipe.models.ud.2.0/raw/master/inst/udpipe-ud-2.0-170801/russian-ud-2.0-170801.udpipe [following]\n",
            "--2019-12-07 09:31:03--  https://github.com/jwijffels/udpipe.models.ud.2.0/raw/master/inst/udpipe-ud-2.0-170801/russian-ud-2.0-170801.udpipe\n",
            "Reusing existing connection to github.com:443.\n",
            "HTTP request sent, awaiting response... 302 Found\n",
            "Location: https://raw.githubusercontent.com/jwijffels/udpipe.models.ud.2.0/master/inst/udpipe-ud-2.0-170801/russian-ud-2.0-170801.udpipe [following]\n",
            "--2019-12-07 09:31:03--  https://raw.githubusercontent.com/jwijffels/udpipe.models.ud.2.0/master/inst/udpipe-ud-2.0-170801/russian-ud-2.0-170801.udpipe\n",
            "Resolving raw.githubusercontent.com (raw.githubusercontent.com)... 151.101.0.133, 151.101.64.133, 151.101.128.133, ...\n",
            "Connecting to raw.githubusercontent.com (raw.githubusercontent.com)|151.101.0.133|:443... connected.\n",
            "HTTP request sent, awaiting response... 200 OK\n",
            "Length: 13265262 (13M) [application/octet-stream]\n",
            "Saving to: ‘model_ru.udpipe’\n",
            "\n",
            "model_ru.udpipe     100%[===================>]  12.65M  --.-KB/s    in 0.09s   \n",
            "\n",
            "2019-12-07 09:31:04 (138 MB/s) - ‘model_ru.udpipe’ saved [13265262/13265262]\n",
            "\n",
            "--2019-12-07 09:31:04--  https://github.com/jwijffels/udpipe.models.ud.2.0/blob/master/inst/udpipe-ud-2.0-170801/russian-syntagrus-ud-2.0-170801.udpipe?raw=true\n",
            "Resolving github.com (github.com)... 140.82.114.3\n",
            "Connecting to github.com (github.com)|140.82.114.3|:443... connected.\n",
            "HTTP request sent, awaiting response... 302 Found\n",
            "Location: https://github.com/jwijffels/udpipe.models.ud.2.0/raw/master/inst/udpipe-ud-2.0-170801/russian-syntagrus-ud-2.0-170801.udpipe [following]\n",
            "--2019-12-07 09:31:05--  https://github.com/jwijffels/udpipe.models.ud.2.0/raw/master/inst/udpipe-ud-2.0-170801/russian-syntagrus-ud-2.0-170801.udpipe\n",
            "Reusing existing connection to github.com:443.\n",
            "HTTP request sent, awaiting response... 302 Found\n",
            "Location: https://raw.githubusercontent.com/jwijffels/udpipe.models.ud.2.0/master/inst/udpipe-ud-2.0-170801/russian-syntagrus-ud-2.0-170801.udpipe [following]\n",
            "--2019-12-07 09:31:05--  https://raw.githubusercontent.com/jwijffels/udpipe.models.ud.2.0/master/inst/udpipe-ud-2.0-170801/russian-syntagrus-ud-2.0-170801.udpipe\n",
            "Resolving raw.githubusercontent.com (raw.githubusercontent.com)... 151.101.0.133, 151.101.64.133, 151.101.128.133, ...\n",
            "Connecting to raw.githubusercontent.com (raw.githubusercontent.com)|151.101.0.133|:443... connected.\n",
            "HTTP request sent, awaiting response... 200 OK\n",
            "Length: 45014943 (43M) [application/octet-stream]\n",
            "Saving to: ‘model_syntagrus_ru.udpipe’\n",
            "\n",
            "model_syntagrus_ru. 100%[===================>]  42.93M   230MB/s    in 0.2s    \n",
            "\n",
            "2019-12-07 09:31:05 (230 MB/s) - ‘model_syntagrus_ru.udpipe’ saved [45014943/45014943]\n",
            "\n"
          ],
          "name": "stdout"
        }
      ]
    },
    {
      "cell_type": "code",
      "metadata": {
        "id": "Fb8tXhDHYJtg",
        "colab_type": "code",
        "colab": {}
      },
      "source": [
        "model = Model.load(UDPIPE_MODEL_FN) # загружаем модель, сохраняем в переменную model\n",
        "model2 = Model.load(UDPIPE_MODEL_FN2)"
      ],
      "execution_count": 0,
      "outputs": []
    },
    {
      "cell_type": "code",
      "metadata": {
        "id": "-Xi1PusbYQpg",
        "colab_type": "code",
        "colab": {
          "base_uri": "https://localhost:8080/",
          "height": 54
        },
        "outputId": "7e97b9f1-0673-4eb8-cc02-7642a8be1a88"
      },
      "source": [
        "sent = \"Степан Аркадьич сел, прочел письма. Одно было очень неприятное — от купца, покупавшего лес в имении жены. Лес этот необходимо было продать; но теперь, до примирения с женой, не могло быть о том речи. Всего же неприятнее тут было то, что этим подмешивался денежный интерес в предстоящее дело его примирения с женою. И мысль, что он может руководиться этим интересом, что он для продажи этого леса будет искать примирения с женой, — эта мысль оскорбляла его.\"\n",
        "print(sent)"
      ],
      "execution_count": 28,
      "outputs": [
        {
          "output_type": "stream",
          "text": [
            "Степан Аркадьич сел, прочел письма. Одно было очень неприятное — от купца, покупавшего лес в имении жены. Лес этот необходимо было продать; но теперь, до примирения с женой, не могло быть о том речи. Всего же неприятнее тут было то, что этим подмешивался денежный интерес в предстоящее дело его примирения с женою. И мысль, что он может руководиться этим интересом, что он для продажи этого леса будет искать примирения с женой, — эта мысль оскорбляла его.\n"
          ],
          "name": "stdout"
        }
      ]
    },
    {
      "cell_type": "code",
      "metadata": {
        "id": "Rr57BGbWY985",
        "colab_type": "code",
        "colab": {
          "base_uri": "https://localhost:8080/",
          "height": 1000
        },
        "outputId": "15228e59-b1c6-4b0a-c00d-58264a22f675"
      },
      "source": [
        "pipeline = Pipeline(model2, 'generic_tokenizer', '','','') #функции нужно 5 аргументов,но нам важны только 2\n",
        "#сохраняем в переменную результат токенизации\n",
        "ud_res = []\n",
        "parsed = pipeline.process(sent) # функция process сделает синтаксический анализ, сохраняем еще раз\n",
        "\n",
        "print(parsed) # печатаем результат\n",
        "#type(parsed)"
      ],
      "execution_count": 29,
      "outputs": [
        {
          "output_type": "stream",
          "text": [
            "# newdoc\n",
            "# newpar\n",
            "# sent_id = 1\n",
            "# text = Степан Аркадьич сел, прочел письма.\n",
            "1\tСтепан\tстепан\tNOUN\t_\tAnimacy=Anim|Case=Nom|Gender=Masc|Number=Sing\t3\tnsubj\t_\t_\n",
            "2\tАркадьич\tАркадьич\tPROPN\t_\tAnimacy=Anim|Case=Nom|Gender=Masc|Number=Sing\t1\tappos\t_\t_\n",
            "3\tсел\tсадиться\tVERB\t_\tAspect=Perf|Gender=Masc|Mood=Ind|Number=Sing|Tense=Past|VerbForm=Fin|Voice=Mid\t0\troot\t_\tSpaceAfter=No\n",
            "4\t,\t,\tPUNCT\t_\t_\t3\tpunct\t_\t_\n",
            "5\tпрочел\tпрочитывать\tVERB\t_\tAspect=Perf|Gender=Masc|Mood=Ind|Number=Sing|Tense=Past|VerbForm=Fin|Voice=Act\t3\tconj\t_\t_\n",
            "6\tписьма\tписьмо\tNOUN\t_\tAnimacy=Inan|Case=Acc|Gender=Neut|Number=Plur\t5\tobj\t_\tSpaceAfter=No\n",
            "7\t.\t.\tPUNCT\t_\t_\t6\tpunct\t_\t_\n",
            "\n",
            "# sent_id = 2\n",
            "# text = Одно было очень неприятное — от купца, покупавшего лес в имении жены.\n",
            "1\tОдно\tодин\tADJ\t_\tDegree=Pos|Gender=Neut|Number=Sing|Variant=Short\t0\troot\t_\t_\n",
            "2\tбыло\tбыть\tAUX\t_\tAspect=Imp|Gender=Neut|Mood=Ind|Number=Sing|Tense=Past|VerbForm=Fin|Voice=Act\t1\tcop\t_\t_\n",
            "3\tочень\tочень\tADV\t_\tDegree=Pos\t4\tadvmod\t_\t_\n",
            "4\tнеприятное\tнеприятный\tADJ\t_\tCase=Nom|Degree=Pos|Gender=Neut|Number=Sing\t1\tnsubj\t_\t_\n",
            "5\t—\t—\tPUNCT\t_\t_\t4\tpunct\t_\t_\n",
            "6\tот\tот\tADP\t_\t_\t7\tcase\t_\t_\n",
            "7\tкупца\tкупец\tNOUN\t_\tAnimacy=Anim|Case=Gen|Gender=Masc|Number=Sing\t1\tnmod\t_\tSpaceAfter=No\n",
            "8\t,\t,\tPUNCT\t_\t_\t7\tpunct\t_\t_\n",
            "9\tпокупавшего\tпокупать\tVERB\t_\tAspect=Imp|Case=Gen|Gender=Masc|Number=Sing|Tense=Past|VerbForm=Part|Voice=Act\t7\tamod\t_\t_\n",
            "10\tлес\tлес\tNOUN\t_\tAnimacy=Inan|Case=Acc|Gender=Masc|Number=Sing\t9\tobj\t_\t_\n",
            "11\tв\tв\tADP\t_\t_\t12\tcase\t_\t_\n",
            "12\tимении\tимение\tNOUN\t_\tAnimacy=Inan|Case=Loc|Gender=Neut|Number=Sing\t9\tobl\t_\t_\n",
            "13\tжены\tжена\tNOUN\t_\tAnimacy=Anim|Case=Gen|Gender=Fem|Number=Sing\t12\tnmod\t_\tSpaceAfter=No\n",
            "14\t.\t.\tPUNCT\t_\t_\t13\tpunct\t_\t_\n",
            "\n",
            "# sent_id = 3\n",
            "# text = Лес этот необходимо было продать; но теперь, до примирения с женой, не могло быть о том речи.\n",
            "1\tЛес\tлес\tNOUN\t_\tAnimacy=Inan|Case=Nom|Gender=Masc|Number=Sing\t3\tnsubj\t_\t_\n",
            "2\tэтот\tэтот\tDET\t_\tCase=Nom|Gender=Masc|Number=Sing\t1\tamod\t_\t_\n",
            "3\tнеобходимо\tнеобходимый\tADJ\t_\tDegree=Pos|Gender=Neut|Number=Sing|Variant=Short\t0\troot\t_\t_\n",
            "4\tбыло\tбыть\tAUX\t_\tAspect=Imp|Gender=Neut|Mood=Ind|Number=Sing|Tense=Past|VerbForm=Fin|Voice=Act\t3\tcop\t_\t_\n",
            "5\tпродать\tпродавать\tVERB\t_\tAspect=Perf|VerbForm=Inf|Voice=Act\t3\tdep\t_\tSpaceAfter=No\n",
            "6\t;\t;\tPUNCT\t_\t_\t5\tpunct\t_\t_\n",
            "7\tно\tно\tCCONJ\t_\t_\t16\tcc\t_\t_\n",
            "8\tтеперь\tтеперь\tADV\t_\tDegree=Pos\t16\tadvmod\t_\tSpaceAfter=No\n",
            "9\t,\t,\tPUNCT\t_\t_\t8\tpunct\t_\t_\n",
            "10\tдо\tдо\tADP\t_\t_\t11\tcase\t_\t_\n",
            "11\tпримирения\tпримирение\tNOUN\t_\tAnimacy=Inan|Case=Gen|Gender=Neut|Number=Sing\t8\tconj\t_\t_\n",
            "12\tс\tс\tADP\t_\t_\t13\tcase\t_\t_\n",
            "13\tженой\tжена\tNOUN\t_\tAnimacy=Anim|Case=Ins|Gender=Fem|Number=Sing\t11\tnmod\t_\tSpaceAfter=No\n",
            "14\t,\t,\tPUNCT\t_\t_\t13\tpunct\t_\t_\n",
            "15\tне\tне\tPART\t_\t_\t16\tadvmod\t_\t_\n",
            "16\tмогло\tмочь\tVERB\t_\tAspect=Imp|Gender=Neut|Mood=Ind|Number=Sing|Tense=Past|VerbForm=Fin|Voice=Act\t3\tconj\t_\t_\n",
            "17\tбыть\tбыть\tVERB\t_\tAspect=Imp|VerbForm=Inf|Voice=Act\t16\txcomp\t_\t_\n",
            "18\tо\tо\tADP\t_\t_\t19\tcase\t_\t_\n",
            "19\tтом\tтот\tPRON\t_\tAnimacy=Inan|Case=Loc|Gender=Neut|Number=Sing\t17\tobl\t_\t_\n",
            "20\tречи\tречь\tNOUN\t_\tAnimacy=Inan|Case=Gen|Gender=Fem|Number=Sing\t19\tnmod\t_\tSpaceAfter=No\n",
            "21\t.\t.\tPUNCT\t_\t_\t20\tpunct\t_\t_\n",
            "\n",
            "# sent_id = 4\n",
            "# text = Всего же неприятнее тут было то, что этим подмешивался денежный интерес в предстоящее дело его примирения с женою.\n",
            "1\tВсего\tвсе\tPART\t_\t_\t3\tadvmod\t_\t_\n",
            "2\tже\tже\tPART\t_\t_\t1\tadvmod\t_\t_\n",
            "3\tнеприятнее\tнеприятный\tADJ\t_\tDegree=Cmp\t0\troot\t_\t_\n",
            "4\tтут\tтут\tADV\t_\tDegree=Pos\t3\tadvmod\t_\t_\n",
            "5\tбыло\tбыть\tAUX\t_\tAspect=Imp|Gender=Neut|Mood=Ind|Number=Sing|Tense=Past|VerbForm=Fin|Voice=Act\t3\tcop\t_\t_\n",
            "6\tто\tто\tPRON\t_\tAnimacy=Inan|Case=Nom|Gender=Neut|Number=Sing\t3\tnsubj\t_\tSpaceAfter=No\n",
            "7\t,\t,\tPUNCT\t_\t_\t6\tpunct\t_\t_\n",
            "8\tчто\tчто\tSCONJ\t_\t_\t6\tmark\t_\t_\n",
            "9\tэтим\tэто\tPRON\t_\tAnimacy=Inan|Case=Ins|Gender=Neut|Number=Sing\t10\tobl\t_\t_\n",
            "10\tподмешивался\tподмешивать\tVERB\t_\tAspect=Imp|Gender=Masc|Mood=Ind|Number=Sing|Tense=Past|VerbForm=Fin|Voice=Mid\t6\tadvcl\t_\t_\n",
            "11\tденежный\tденежный\tADJ\t_\tCase=Nom|Degree=Pos|Gender=Masc|Number=Sing\t12\tamod\t_\t_\n",
            "12\tинтерес\tинтерес\tNOUN\t_\tAnimacy=Inan|Case=Nom|Gender=Masc|Number=Sing\t10\tnsubj\t_\t_\n",
            "13\tв\tв\tADP\t_\t_\t15\tcase\t_\t_\n",
            "14\tпредстоящее\tпредстоять\tVERB\t_\tAspect=Imp|Case=Acc|Gender=Neut|Number=Sing|Tense=Pres|VerbForm=Part|Voice=Act\t15\tamod\t_\t_\n",
            "15\tдело\tдело\tNOUN\t_\tAnimacy=Inan|Case=Acc|Gender=Neut|Number=Sing\t12\tnmod\t_\t_\n",
            "16\tего\tон\tPRON\t_\tCase=Gen|Gender=Masc|Number=Sing|Person=3\t17\tnmod\t_\t_\n",
            "17\tпримирения\tпримирение\tNOUN\t_\tAnimacy=Inan|Case=Gen|Gender=Neut|Number=Sing\t15\tnmod\t_\t_\n",
            "18\tс\tс\tADP\t_\t_\t19\tcase\t_\t_\n",
            "19\tженою\tжена\tNOUN\t_\tAnimacy=Anim|Case=Ins|Gender=Fem|Number=Sing\t15\tnmod\t_\tSpaceAfter=No\n",
            "20\t.\t.\tPUNCT\t_\t_\t19\tpunct\t_\t_\n",
            "\n",
            "# sent_id = 5\n",
            "# text = И мысль, что он может руководиться этим интересом, что он для продажи этого леса будет искать примирения с женой, — эта мысль оскорбляла его.\n",
            "1\tИ\tи\tCCONJ\t_\t_\t2\tcc\t_\t_\n",
            "2\tмысль\tмысль\tNOUN\t_\tAnimacy=Inan|Case=Nom|Gender=Fem|Number=Sing\t0\troot\t_\tSpaceAfter=No\n",
            "3\t,\t,\tPUNCT\t_\t_\t2\tpunct\t_\t_\n",
            "4\tчто\tчто\tSCONJ\t_\t_\t2\tmark\t_\t_\n",
            "5\tон\tон\tPRON\t_\tCase=Nom|Gender=Masc|Number=Sing|Person=3\t6\tnsubj\t_\t_\n",
            "6\tможет\tмочь\tVERB\t_\tAspect=Imp|Mood=Ind|Number=Sing|Person=3|Tense=Pres|VerbForm=Fin|Voice=Act\t2\tadvcl\t_\t_\n",
            "7\tруководиться\tруководить\tVERB\t_\tAspect=Perf|VerbForm=Inf|Voice=Mid\t6\txcomp\t_\t_\n",
            "8\tэтим\tэтот\tDET\t_\tCase=Ins|Gender=Masc|Number=Sing\t7\tobl\t_\t_\n",
            "9\tинтересом\tинтерес\tNOUN\t_\tAnimacy=Inan|Case=Ins|Gender=Masc|Number=Sing\t8\tadvcl\t_\tSpaceAfter=No\n",
            "10\t,\t,\tPUNCT\t_\t_\t9\tpunct\t_\t_\n",
            "11\tчто\tчто\tSCONJ\t_\t_\t8\tmark\t_\t_\n",
            "12\tон\tон\tPRON\t_\tCase=Nom|Gender=Masc|Number=Sing|Person=3\t18\tnsubj\t_\t_\n",
            "13\tдля\tдля\tADP\t_\t_\t14\tcase\t_\t_\n",
            "14\tпродажи\tпродажа\tNOUN\t_\tAnimacy=Inan|Case=Gen|Gender=Fem|Number=Sing\t18\tobl\t_\t_\n",
            "15\tэтого\tэтот\tDET\t_\tCase=Gen|Gender=Masc|Number=Sing\t16\tamod\t_\t_\n",
            "16\tлеса\tлес\tNOUN\t_\tAnimacy=Inan|Case=Gen|Gender=Masc|Number=Sing\t14\tnmod\t_\t_\n",
            "17\tбудет\tбыть\tAUX\t_\tAspect=Imp|Mood=Ind|Number=Sing|Person=3|Tense=Pres|VerbForm=Fin|Voice=Act\t18\taux\t_\t_\n",
            "18\tискать\tискать\tVERB\t_\tAspect=Imp|VerbForm=Inf|Voice=Act\t9\tdep\t_\t_\n",
            "19\tпримирения\tпримирение\tNOUN\t_\tAnimacy=Inan|Case=Acc|Gender=Neut|Number=Plur\t18\tobj\t_\t_\n",
            "20\tс\tс\tADP\t_\t_\t21\tcase\t_\t_\n",
            "21\tженой\tжена\tNOUN\t_\tAnimacy=Anim|Case=Ins|Gender=Fem|Number=Sing\t18\tobl\t_\tSpaceAfter=No\n",
            "22\t,\t,\tPUNCT\t_\t_\t21\tpunct\t_\t_\n",
            "23\t—\t—\tPUNCT\t_\t_\t21\tpunct\t_\t_\n",
            "24\tэта\tэтот\tDET\t_\tCase=Nom|Gender=Fem|Number=Sing\t25\tamod\t_\t_\n",
            "25\tмысль\tмысль\tNOUN\t_\tAnimacy=Inan|Case=Nom|Gender=Fem|Number=Sing\t26\tnsubj\t_\t_\n",
            "26\tоскорбляла\tоскорблять\tVERB\t_\tAspect=Perf|Gender=Fem|Mood=Ind|Number=Sing|Tense=Past|VerbForm=Fin|Voice=Act\t8\tadvcl\t_\t_\n",
            "27\tего\tон\tPRON\t_\tCase=Acc|Gender=Masc|Number=Sing|Person=3\t26\tobj\t_\tSpaceAfter=No\n",
            "28\t.\t.\tPUNCT\t_\t_\t27\tpunct\t_\tSpacesAfter=\\n\n",
            "\n",
            "\n"
          ],
          "name": "stdout"
        }
      ]
    },
    {
      "cell_type": "code",
      "metadata": {
        "id": "hbtMwq-RtMbf",
        "colab_type": "code",
        "colab": {
          "base_uri": "https://localhost:8080/",
          "height": 34
        },
        "outputId": "5822952c-5207-43be-c115-ad4b1179305b"
      },
      "source": [
        "! pip3 install graphviz"
      ],
      "execution_count": 30,
      "outputs": [
        {
          "output_type": "stream",
          "text": [
            "Requirement already satisfied: graphviz in /usr/local/lib/python3.6/dist-packages (0.10.1)\n"
          ],
          "name": "stdout"
        }
      ]
    },
    {
      "cell_type": "code",
      "metadata": {
        "id": "6A7A-_ACtV5W",
        "colab_type": "code",
        "colab": {}
      },
      "source": [
        "from nltk import DependencyGraph"
      ],
      "execution_count": 0,
      "outputs": []
    },
    {
      "cell_type": "code",
      "metadata": {
        "id": "0KjRV-xPtdp6",
        "colab_type": "code",
        "colab": {}
      },
      "source": [
        "def conllu_to_list(parser_result): # аргумент - это conllu-файл, который получили в результате синтаксического анализа \n",
        "    sents = []\n",
        "    for sent in parser_result.split('\\n\\n'):\n",
        "        # убираем коменты\n",
        "        sent = '\\n'.join([line for line in sent.split('\\n') if not line.startswith('#')])\n",
        "        # заменяем регистр для root\n",
        "        sent = sent.replace('\\troot\\t', '\\tROOT\\t')\n",
        "        sents.append(sent)\n",
        "    return sents"
      ],
      "execution_count": 0,
      "outputs": []
    },
    {
      "cell_type": "code",
      "metadata": {
        "id": "ivUWZ543tjLq",
        "colab_type": "code",
        "colab": {}
      },
      "source": [
        "# вызовем для результата UDPipe:\n",
        "\n",
        "ud = conllu_to_list(parsed)"
      ],
      "execution_count": 0,
      "outputs": []
    },
    {
      "cell_type": "code",
      "metadata": {
        "id": "ve2Tio66tnex",
        "colab_type": "code",
        "colab": {
          "base_uri": "https://localhost:8080/",
          "height": 776
        },
        "outputId": "897b2ded-4732-4878-a4d1-fc163ae23587"
      },
      "source": [
        "# нарисуем граф для UDPipe\n",
        "ud_graph = DependencyGraph(tree_str=ud[1])\n",
        "ud_graph"
      ],
      "execution_count": 40,
      "outputs": [
        {
          "output_type": "execute_result",
          "data": {
            "text/plain": [
              "<DependencyGraph with 15 nodes>"
            ],
            "image/svg+xml": "<?xml version=\"1.0\" encoding=\"UTF-8\" standalone=\"no\"?>\n<!DOCTYPE svg PUBLIC \"-//W3C//DTD SVG 1.1//EN\"\n \"http://www.w3.org/Graphics/SVG/1.1/DTD/svg11.dtd\">\n<!-- Generated by graphviz version 2.40.1 (20161225.0304)\n -->\n<!-- Title: G Pages: 1 -->\n<svg width=\"546pt\" height=\"566pt\"\n viewBox=\"0.00 0.00 545.50 566.00\" xmlns=\"http://www.w3.org/2000/svg\" xmlns:xlink=\"http://www.w3.org/1999/xlink\">\n<g id=\"graph0\" class=\"graph\" transform=\"scale(1 1) rotate(0) translate(4 562)\">\n<title>G</title>\n<polygon fill=\"#ffffff\" stroke=\"transparent\" points=\"-4,4 -4,-562 541.5,-562 541.5,4 -4,4\"/>\n<!-- 0 -->\n<g id=\"node1\" class=\"node\">\n<title>0</title>\n<text text-anchor=\"middle\" x=\"140\" y=\"-536.3\" font-family=\"Times,serif\" font-size=\"14.00\" fill=\"#000000\">0 (None)</text>\n</g>\n<!-- 1 -->\n<g id=\"node2\" class=\"node\">\n<title>1</title>\n<text text-anchor=\"middle\" x=\"140\" y=\"-449.3\" font-family=\"Times,serif\" font-size=\"14.00\" fill=\"#000000\">1 (Одно)</text>\n</g>\n<!-- 0&#45;&gt;1 -->\n<g id=\"edge1\" class=\"edge\">\n<title>0&#45;&gt;1</title>\n<path fill=\"none\" stroke=\"#000000\" d=\"M140,-521.9735C140,-510.1918 140,-494.5607 140,-481.1581\"/>\n<polygon fill=\"#000000\" stroke=\"#000000\" points=\"143.5001,-481.0033 140,-471.0034 136.5001,-481.0034 143.5001,-481.0033\"/>\n<text text-anchor=\"middle\" x=\"160\" y=\"-492.8\" font-family=\"Times,serif\" font-size=\"14.00\" fill=\"#000000\">ROOT</text>\n</g>\n<!-- 2 -->\n<g id=\"node3\" class=\"node\">\n<title>2</title>\n<text text-anchor=\"middle\" x=\"34\" y=\"-362.3\" font-family=\"Times,serif\" font-size=\"14.00\" fill=\"#000000\">2 (было)</text>\n</g>\n<!-- 1&#45;&gt;2 -->\n<g id=\"edge2\" class=\"edge\">\n<title>1&#45;&gt;2</title>\n<path fill=\"none\" stroke=\"#000000\" d=\"M118.0367,-434.9735C102.4028,-422.1419 81.2058,-404.7443 64.0121,-390.6326\"/>\n<polygon fill=\"#000000\" stroke=\"#000000\" points=\"65.8855,-387.6422 55.9351,-384.0034 61.4445,-393.0531 65.8855,-387.6422\"/>\n<text text-anchor=\"middle\" x=\"105\" y=\"-405.8\" font-family=\"Times,serif\" font-size=\"14.00\" fill=\"#000000\">cop</text>\n</g>\n<!-- 4 -->\n<g id=\"node4\" class=\"node\">\n<title>4</title>\n<text text-anchor=\"middle\" x=\"140\" y=\"-362.3\" font-family=\"Times,serif\" font-size=\"14.00\" fill=\"#000000\">4 (неприятное)</text>\n</g>\n<!-- 1&#45;&gt;4 -->\n<g id=\"edge3\" class=\"edge\">\n<title>1&#45;&gt;4</title>\n<path fill=\"none\" stroke=\"#000000\" d=\"M140,-434.9735C140,-423.1918 140,-407.5607 140,-394.1581\"/>\n<polygon fill=\"#000000\" stroke=\"#000000\" points=\"143.5001,-394.0033 140,-384.0034 136.5001,-394.0034 143.5001,-394.0033\"/>\n<text text-anchor=\"middle\" x=\"156\" y=\"-405.8\" font-family=\"Times,serif\" font-size=\"14.00\" fill=\"#000000\">nsubj</text>\n</g>\n<!-- 7 -->\n<g id=\"node5\" class=\"node\">\n<title>7</title>\n<text text-anchor=\"middle\" x=\"266\" y=\"-362.3\" font-family=\"Times,serif\" font-size=\"14.00\" fill=\"#000000\">7 (купца)</text>\n</g>\n<!-- 1&#45;&gt;7 -->\n<g id=\"edge4\" class=\"edge\">\n<title>1&#45;&gt;7</title>\n<path fill=\"none\" stroke=\"#000000\" d=\"M166.1073,-434.9735C185.0289,-421.9086 210.8059,-404.1102 231.4352,-389.8662\"/>\n<polygon fill=\"#000000\" stroke=\"#000000\" points=\"233.6859,-392.5655 239.9262,-384.0034 229.7085,-386.8052 233.6859,-392.5655\"/>\n<text text-anchor=\"middle\" x=\"228\" y=\"-405.8\" font-family=\"Times,serif\" font-size=\"14.00\" fill=\"#000000\">nmod</text>\n</g>\n<!-- 3 -->\n<g id=\"node6\" class=\"node\">\n<title>3</title>\n<text text-anchor=\"middle\" x=\"59\" y=\"-275.3\" font-family=\"Times,serif\" font-size=\"14.00\" fill=\"#000000\">3 (очень)</text>\n</g>\n<!-- 4&#45;&gt;3 -->\n<g id=\"edge5\" class=\"edge\">\n<title>4&#45;&gt;3</title>\n<path fill=\"none\" stroke=\"#000000\" d=\"M109.0123,-347.9199C101.5984,-342.7226 94.0787,-336.642 88,-330 81.6048,-323.0121 76.0289,-314.3708 71.521,-306.1994\"/>\n<polygon fill=\"#000000\" stroke=\"#000000\" points=\"74.6096,-304.5524 66.8985,-297.2867 68.3956,-307.7753 74.6096,-304.5524\"/>\n<text text-anchor=\"middle\" x=\"112\" y=\"-318.8\" font-family=\"Times,serif\" font-size=\"14.00\" fill=\"#000000\">advmod</text>\n</g>\n<!-- 5 -->\n<g id=\"node7\" class=\"node\">\n<title>5</title>\n<text text-anchor=\"middle\" x=\"140\" y=\"-275.3\" font-family=\"Times,serif\" font-size=\"14.00\" fill=\"#000000\">5 (—)</text>\n</g>\n<!-- 4&#45;&gt;5 -->\n<g id=\"edge6\" class=\"edge\">\n<title>4&#45;&gt;5</title>\n<path fill=\"none\" stroke=\"#000000\" d=\"M140,-347.9735C140,-336.1918 140,-320.5607 140,-307.1581\"/>\n<polygon fill=\"#000000\" stroke=\"#000000\" points=\"143.5001,-307.0033 140,-297.0034 136.5001,-307.0034 143.5001,-307.0033\"/>\n<text text-anchor=\"middle\" x=\"156.5\" y=\"-318.8\" font-family=\"Times,serif\" font-size=\"14.00\" fill=\"#000000\">punct</text>\n</g>\n<!-- 6 -->\n<g id=\"node8\" class=\"node\">\n<title>6</title>\n<text text-anchor=\"middle\" x=\"212\" y=\"-275.3\" font-family=\"Times,serif\" font-size=\"14.00\" fill=\"#000000\">6 (от)</text>\n</g>\n<!-- 7&#45;&gt;6 -->\n<g id=\"edge7\" class=\"edge\">\n<title>7&#45;&gt;6</title>\n<path fill=\"none\" stroke=\"#000000\" d=\"M254.8112,-347.9735C247.2087,-335.7252 237.024,-319.3165 228.4958,-305.5766\"/>\n<polygon fill=\"#000000\" stroke=\"#000000\" points=\"231.4219,-303.654 223.1745,-297.0034 225.4744,-307.3456 231.4219,-303.654\"/>\n<text text-anchor=\"middle\" x=\"255\" y=\"-318.8\" font-family=\"Times,serif\" font-size=\"14.00\" fill=\"#000000\">case</text>\n</g>\n<!-- 8 -->\n<g id=\"node9\" class=\"node\">\n<title>8</title>\n<text text-anchor=\"middle\" x=\"284\" y=\"-275.3\" font-family=\"Times,serif\" font-size=\"14.00\" fill=\"#000000\">8 (,)</text>\n</g>\n<!-- 7&#45;&gt;8 -->\n<g id=\"edge8\" class=\"edge\">\n<title>7&#45;&gt;8</title>\n<path fill=\"none\" stroke=\"#000000\" d=\"M269.7296,-347.9735C272.1672,-336.1918 275.4012,-320.5607 278.1742,-307.1581\"/>\n<polygon fill=\"#000000\" stroke=\"#000000\" points=\"281.6764,-307.5051 280.2752,-297.0034 274.8216,-306.0868 281.6764,-307.5051\"/>\n<text text-anchor=\"middle\" x=\"293.5\" y=\"-318.8\" font-family=\"Times,serif\" font-size=\"14.00\" fill=\"#000000\">punct</text>\n</g>\n<!-- 9 -->\n<g id=\"node10\" class=\"node\">\n<title>9</title>\n<text text-anchor=\"middle\" x=\"388\" y=\"-275.3\" font-family=\"Times,serif\" font-size=\"14.00\" fill=\"#000000\">9 (покупавшего)</text>\n</g>\n<!-- 7&#45;&gt;9 -->\n<g id=\"edge9\" class=\"edge\">\n<title>7&#45;&gt;9</title>\n<path fill=\"none\" stroke=\"#000000\" d=\"M291.2785,-347.9735C309.5994,-334.9086 334.5581,-317.1102 354.5325,-302.8662\"/>\n<polygon fill=\"#000000\" stroke=\"#000000\" points=\"356.6442,-305.6591 362.7539,-297.0034 352.5799,-299.9598 356.6442,-305.6591\"/>\n<text text-anchor=\"middle\" x=\"351.5\" y=\"-318.8\" font-family=\"Times,serif\" font-size=\"14.00\" fill=\"#000000\">amod</text>\n</g>\n<!-- 10 -->\n<g id=\"node11\" class=\"node\">\n<title>10</title>\n<text text-anchor=\"middle\" x=\"354\" y=\"-188.3\" font-family=\"Times,serif\" font-size=\"14.00\" fill=\"#000000\">10 (лес)</text>\n</g>\n<!-- 9&#45;&gt;10 -->\n<g id=\"edge10\" class=\"edge\">\n<title>9&#45;&gt;10</title>\n<path fill=\"none\" stroke=\"#000000\" d=\"M380.9552,-260.9735C376.2596,-248.9585 369.9996,-232.9401 364.6942,-219.3646\"/>\n<polygon fill=\"#000000\" stroke=\"#000000\" points=\"367.9357,-218.0434 361.0358,-210.0034 361.4159,-220.5914 367.9357,-218.0434\"/>\n<text text-anchor=\"middle\" x=\"383.5\" y=\"-231.8\" font-family=\"Times,serif\" font-size=\"14.00\" fill=\"#000000\">obj</text>\n</g>\n<!-- 12 -->\n<g id=\"node12\" class=\"node\">\n<title>12</title>\n<text text-anchor=\"middle\" x=\"448\" y=\"-188.3\" font-family=\"Times,serif\" font-size=\"14.00\" fill=\"#000000\">12 (имении)</text>\n</g>\n<!-- 9&#45;&gt;12 -->\n<g id=\"edge11\" class=\"edge\">\n<title>9&#45;&gt;12</title>\n<path fill=\"none\" stroke=\"#000000\" d=\"M400.432,-260.9735C408.8792,-248.7252 420.1955,-232.3165 429.6713,-218.5766\"/>\n<polygon fill=\"#000000\" stroke=\"#000000\" points=\"432.7878,-220.2226 435.5839,-210.0034 427.0253,-216.2484 432.7878,-220.2226\"/>\n<text text-anchor=\"middle\" x=\"431.5\" y=\"-231.8\" font-family=\"Times,serif\" font-size=\"14.00\" fill=\"#000000\">obl</text>\n</g>\n<!-- 11 -->\n<g id=\"node13\" class=\"node\">\n<title>11</title>\n<text text-anchor=\"middle\" x=\"415\" y=\"-101.3\" font-family=\"Times,serif\" font-size=\"14.00\" fill=\"#000000\">11 (в)</text>\n</g>\n<!-- 12&#45;&gt;11 -->\n<g id=\"edge12\" class=\"edge\">\n<title>12&#45;&gt;11</title>\n<path fill=\"none\" stroke=\"#000000\" d=\"M440.8273,-173.7053C438.6205,-168.0369 436.195,-161.7658 434,-156 431.1483,-148.5093 428.1003,-140.3831 425.2992,-132.865\"/>\n<polygon fill=\"#000000\" stroke=\"#000000\" points=\"428.56,-131.5916 421.7964,-123.4366 421.9982,-134.0295 428.56,-131.5916\"/>\n<text text-anchor=\"middle\" x=\"446\" y=\"-144.8\" font-family=\"Times,serif\" font-size=\"14.00\" fill=\"#000000\">case</text>\n</g>\n<!-- 13 -->\n<g id=\"node14\" class=\"node\">\n<title>13</title>\n<text text-anchor=\"middle\" x=\"499\" y=\"-101.3\" font-family=\"Times,serif\" font-size=\"14.00\" fill=\"#000000\">13 (жены)</text>\n</g>\n<!-- 12&#45;&gt;13 -->\n<g id=\"edge13\" class=\"edge\">\n<title>12&#45;&gt;13</title>\n<path fill=\"none\" stroke=\"#000000\" d=\"M458.5672,-173.9735C465.6789,-161.8418 475.1832,-145.6287 483.1901,-131.9698\"/>\n<polygon fill=\"#000000\" stroke=\"#000000\" points=\"486.4085,-133.4004 488.4463,-123.0034 480.3696,-129.8603 486.4085,-133.4004\"/>\n<text text-anchor=\"middle\" x=\"493\" y=\"-144.8\" font-family=\"Times,serif\" font-size=\"14.00\" fill=\"#000000\">nmod</text>\n</g>\n<!-- 14 -->\n<g id=\"node15\" class=\"node\">\n<title>14</title>\n<text text-anchor=\"middle\" x=\"499\" y=\"-14.3\" font-family=\"Times,serif\" font-size=\"14.00\" fill=\"#000000\">14 (.)</text>\n</g>\n<!-- 13&#45;&gt;14 -->\n<g id=\"edge14\" class=\"edge\">\n<title>13&#45;&gt;14</title>\n<path fill=\"none\" stroke=\"#000000\" d=\"M499,-86.9735C499,-75.1918 499,-59.5607 499,-46.1581\"/>\n<polygon fill=\"#000000\" stroke=\"#000000\" points=\"502.5001,-46.0033 499,-36.0034 495.5001,-46.0034 502.5001,-46.0033\"/>\n<text text-anchor=\"middle\" x=\"515.5\" y=\"-57.8\" font-family=\"Times,serif\" font-size=\"14.00\" fill=\"#000000\">punct</text>\n</g>\n</g>\n</svg>\n"
          },
          "metadata": {
            "tags": []
          },
          "execution_count": 40
        }
      ]
    }
  ]
}