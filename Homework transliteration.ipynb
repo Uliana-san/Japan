{
  "nbformat": 4,
  "nbformat_minor": 0,
  "metadata": {
    "colab": {
      "name": "Untitled9.ipynb",
      "provenance": [],
      "include_colab_link": true
    },
    "kernelspec": {
      "name": "python3",
      "display_name": "Python 3"
    }
  },
  "cells": [
    {
      "cell_type": "markdown",
      "metadata": {
        "id": "view-in-github",
        "colab_type": "text"
      },
      "source": [
        "<a href=\"https://colab.research.google.com/github/Uliana-san/Japan/blob/master/Homework%20transliteration.ipynb\" target=\"_parent\"><img src=\"https://colab.research.google.com/assets/colab-badge.svg\" alt=\"Open In Colab\"/></a>"
      ]
    },
    {
      "cell_type": "code",
      "metadata": {
        "id": "PMyXOolDXol-",
        "colab_type": "code",
        "colab": {
          "base_uri": "https://localhost:8080/",
          "height": 34
        },
        "outputId": "7330c199-bb95-4d13-fa7a-ac0a911fc457"
      },
      "source": [
        "# генератор названий компаний\n",
        "\n",
        "import random\n",
        "\n",
        "names = [\"пром\",\"агро\",\"торг\",\"урал\",\"север\",\"юг\",\"техно\",\n",
        "\"экспо\",\"метал\",\"нефть\",\"сельхоз\",\"фарм\",\"строй\",\n",
        "\"кредит\",\"алмаз\",\"-девелопмент\",\"развитие\",\"мос\",\n",
        "\"рос\",\"кубань\",\"сибирь\",\"восток\",\"нано\",\"софт\",\n",
        "\"микро\",\"онлайн\",\"инвест\",\"текстиль\",\"цемент\"]\n",
        "\n",
        "# Ваш код ниже\n",
        "\n",
        "company = ''\n",
        "for x in range(6):\n",
        "  company = company + random.choice(names)\n",
        "\n",
        "print(company) #пусть в ней будет 6 частей\n",
        "\n",
        "# запустите ячейку несклько раз"
      ],
      "execution_count": 4,
      "outputs": [
        {
          "output_type": "stream",
          "text": [
            "кредитросмосмикрокубаньэкспо\n"
          ],
          "name": "stdout"
        }
      ]
    },
    {
      "cell_type": "markdown",
      "metadata": {
        "id": "DHze-QCmY1Bc",
        "colab_type": "text"
      },
      "source": [
        "Транслитератор\n",
        "Напишите программу, которая будет транситерировать текст (собака >> sobaka)\n",
        "\n",
        "Вам нужно:\n",
        "\n",
        "написать побуквенный транслитератор с кириллицы на латиницу(здесь нужно ипользовать словарь)\n",
        "\n",
        "\"обернуть\" ваш код транслитератора в функцию\n",
        "\n",
        "применить функцию к тексту (возьмите любой, на ваш выбор, длиной от 2 до 7 предложений. Хорошая идея - искать в статьях на Википедии)\n",
        "\n",
        "3.1. чтобы работать с текстом, сохраните его в переменную"
      ]
    },
    {
      "cell_type": "code",
      "metadata": {
        "id": "cRJJS9n4Xt6i",
        "colab_type": "code",
        "colab": {
          "base_uri": "https://localhost:8080/",
          "height": 238
        },
        "outputId": "116861ec-fbd2-4455-ef7b-3af17927bf4a"
      },
      "source": [
        "d = {\"а\":\"a\",\"б\":\"b\", \"в\":\"v\", \"г\":\"g\",\"д\":\"d\",\"е\":\"e\",\"ж\":\"zh\",\"з\":\"z\",\"и\":\"i\",\"й\":\"y\",\"к\":\"k\",\"л\":\"l\",\"м\":\"m\",\"н\":\"n\",\"о\":\"o\",\"п\":\"p\",\"р\":\"r\",\"с\":\"s\",\"т\":\"t\",\"у\":\"u\",\"ф\":\"f\",\"х\":\"h\",\"ц\":\"ts\",\"ч\":\"ch\",\"ш\":\"sh\",\"щ\":\"shch\",\"ъ\":\"'\",\"ь\":\"i\",\"э\":\"e\",\"ю\":\"yu\",\"я\":\"ya\"}\n",
        "str = \"здравствуйте\"\n",
        "zdr =list(str)\n",
        "print(zdr)\n",
        "res = '';\n",
        "for x in zdr:\n",
        "  if x in d:\n",
        "    res = res + d[x]\n",
        "  print(res)"
      ],
      "execution_count": 16,
      "outputs": [
        {
          "output_type": "stream",
          "text": [
            "['з', 'д', 'р', 'а', 'в', 'с', 'т', 'в', 'у', 'й', 'т', 'е']\n",
            "z\n",
            "zd\n",
            "zdr\n",
            "zdra\n",
            "zdrav\n",
            "zdravs\n",
            "zdravst\n",
            "zdravstv\n",
            "zdravstvu\n",
            "zdravstvuy\n",
            "zdravstvuyt\n",
            "zdravstvuyte\n"
          ],
          "name": "stdout"
        }
      ]
    },
    {
      "cell_type": "code",
      "metadata": {
        "id": "D_jUXdFIdZSB",
        "colab_type": "code",
        "colab": {
          "base_uri": "https://localhost:8080/",
          "height": 54
        },
        "outputId": "85efb155-1b40-4957-ec8b-3ac0ae265e00"
      },
      "source": [
        "def translit(text):\n",
        "  d = {\"\bа\":\"a\",\"б\":\"b\", \"в\":\"v\", \"г\":\"g\",\"д\":\"d\",\"е\":\"e\",\"ж\":\"zh\",\"з\":\"z\",\"и\":\"i\",\"й\":\"y\",\"к\":\"k\",\"л\":\"l\",\"м\":\"m\",\"н\":\"n\",\"о\":\"o\",\"п\":\"p\",\"р\":\"r\",\"с\":\"s\",\"т\":\"t\",\"у\":\"u\",\"ф\":\"f\",\"х\":\"h\",\"ц\":\"ts\",\"ч\":\"ch\",\"ш\":\"sh\",\"щ\":\"shch\",\"ъ\":\"'\",\"ь\":\"i\",\"э\":\"e\",\"ю\":\"yu\",\"я\":\"ya\"}\n",
        "  a =list(text)\n",
        "  res = '';\n",
        "  for x in a:\n",
        "     if x.lower() in d:\n",
        "       res = res + d[x.lower()]\n",
        "     else: \n",
        "       res = res + x\n",
        "  return res\n",
        "japan = \"Почти сразу после принятия третьей версии Международная организация по стандартизации (ISO) предложила свою практически идентичную академической за исключением буквы е, которая всегда передавалась как e (в академической — e и je в зависимости от позиции в слове)\"\n",
        "translit(japan)\n"
      ],
      "execution_count": 12,
      "outputs": [
        {
          "output_type": "execute_result",
          "data": {
            "text/plain": [
              "'pochti srаzu posle prinyatiya tretiey versii mezhdunаrodnаya orgаnizаtsiya po stаndаrtizаtsii (ISO) predlozhilа svoyu prаkticheski identichnuyu аkаdemicheskoy zа isklyucheniem bukvы e, kotorаya vsegdа peredаvаlаsi kаk e (v аkаdemicheskoy — e i je v zаvisimosti ot pozitsii v slove)'"
            ]
          },
          "metadata": {
            "tags": []
          },
          "execution_count": 12
        }
      ]
    },
    {
      "cell_type": "code",
      "metadata": {
        "id": "jMZkO_qKD9bu",
        "colab_type": "code",
        "colab": {}
      },
      "source": [
        ""
      ],
      "execution_count": 0,
      "outputs": []
    }
  ]
}