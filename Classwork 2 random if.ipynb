{
  "nbformat": 4,
  "nbformat_minor": 0,
  "metadata": {
    "colab": {
      "name": "Untitled1.ipynb",
      "provenance": [],
      "include_colab_link": true
    },
    "kernelspec": {
      "name": "python3",
      "display_name": "Python 3"
    }
  },
  "cells": [
    {
      "cell_type": "markdown",
      "metadata": {
        "id": "view-in-github",
        "colab_type": "text"
      },
      "source": [
        "<a href=\"https://colab.research.google.com/github/Uliana-san/Japan/blob/master/Classwork%202%20random%20if.ipynb\" target=\"_parent\"><img src=\"https://colab.research.google.com/assets/colab-badge.svg\" alt=\"Open In Colab\"/></a>"
      ]
    },
    {
      "cell_type": "code",
      "metadata": {
        "id": "cao6DiZt8UVQ",
        "colab_type": "code",
        "colab": {
          "base_uri": "https://localhost:8080/",
          "height": 34
        },
        "outputId": "20736e66-8cf1-4eeb-e145-ba11444ef57d"
      },
      "source": [
        "import random\n",
        "seq = [\"Jane\", \"Mary\", \"Alice\",\"Leo\"]\n",
        "random.choice(seq)"
      ],
      "execution_count": 5,
      "outputs": [
        {
          "output_type": "execute_result",
          "data": {
            "text/plain": [
              "'Jane'"
            ]
          },
          "metadata": {
            "tags": []
          },
          "execution_count": 5
        }
      ]
    },
    {
      "cell_type": "code",
      "metadata": {
        "id": "IuU1Kr1M8VJE",
        "colab_type": "code",
        "colab": {
          "base_uri": "https://localhost:8080/",
          "height": 34
        },
        "outputId": "e625df25-754e-490f-f344-31bad5966833"
      },
      "source": [
        "import random\n",
        "seq = [\"Jane\",\"Mary\", \"Alice\",\"Leo\",\"Nick\",\"Genevieve\", \"Sam\", \"yes, you\"]\n",
        "\n",
        "print(\"hello,\",random.choice(seq))"
      ],
      "execution_count": 6,
      "outputs": [
        {
          "output_type": "stream",
          "text": [
            "hello, yes, you\n"
          ],
          "name": "stdout"
        }
      ]
    },
    {
      "cell_type": "code",
      "metadata": {
        "id": "YCr_qY0U8qCP",
        "colab_type": "code",
        "colab": {
          "base_uri": "https://localhost:8080/",
          "height": 51
        },
        "outputId": "253d9897-63c1-42e2-8b97-9cc473a3fea3"
      },
      "source": [
        "inp = int(input(\"введите число, а я угадаю, четное оно или нет:\"))\n",
        "if inp%2 == 0:\n",
        "  print(\"да, это число четное\")\n",
        "else:\n",
        "  print(\"число нечетное\")\n",
        "\n",
        "  "
      ],
      "execution_count": 7,
      "outputs": [
        {
          "output_type": "stream",
          "text": [
            "введите число, а я угадаю, четное оно или нет:5\n",
            "число нечетное\n"
          ],
          "name": "stdout"
        }
      ]
    },
    {
      "cell_type": "code",
      "metadata": {
        "id": "_w3ZMJPe8rJl",
        "colab_type": "code",
        "colab": {
          "base_uri": "https://localhost:8080/",
          "height": 51
        },
        "outputId": "6122b478-01f8-4780-a910-d74be52460d1"
      },
      "source": [
        "a = float(input(\"по шкале от 0 до 10, напишите, насколько Вы устали: \"))\n",
        "if a < 0.7:\n",
        "  print(\"Кажется, Вы совсем не устали\")\n",
        "elif 0.7 <= a <= 6.8:\n",
        "  print(\"Вы средненько устали\")\n",
        "else:\n",
        "  print(\"Скорее идите отдыхать!\")"
      ],
      "execution_count": 8,
      "outputs": [
        {
          "output_type": "stream",
          "text": [
            "по шкале от 0 до 10, напишите, насколько Вы устали: 9\n",
            "Скорее идите отдыхать!\n"
          ],
          "name": "stdout"
        }
      ]
    },
    {
      "cell_type": "code",
      "metadata": {
        "id": "zVAvCCtF8ytK",
        "colab_type": "code",
        "colab": {
          "base_uri": "https://localhost:8080/",
          "height": 51
        },
        "outputId": "4fa2ab71-32ad-4226-ee35-414ee5173126"
      },
      "source": [
        "a = float(input(\"по шкале от 0 до 10, напишите, насколько Вы устали: \"))\n",
        "if a < 0.7:\n",
        "  print(\"Кажется, Вы совсем не устали\")\n",
        "elif 0.7 <= a <= 5.2:\n",
        "  print(\"Вы средненько устали\")\n",
        "elif 5.3 <= a <= 8.8:\n",
        "  print(\"Вы устали чуть сильнее\")\n",
        "else:\n",
        "  print(\"Скорее идите отдыхать!\")"
      ],
      "execution_count": 9,
      "outputs": [
        {
          "output_type": "stream",
          "text": [
            "по шкале от 0 до 10, напишите, насколько Вы устали: 7\n",
            "Вы устали чуть сильнее\n"
          ],
          "name": "stdout"
        }
      ]
    },
    {
      "cell_type": "code",
      "metadata": {
        "id": "0LBXQy0H855_",
        "colab_type": "code",
        "colab": {
          "base_uri": "https://localhost:8080/",
          "height": 51
        },
        "outputId": "d86009f8-4617-4fb5-aa62-6f1e6203d4af"
      },
      "source": [
        "x = input(\"какой кофе вы любите?\")\n",
        "\n",
        "print(\"я тоже!\") if x in [\"американо\",\"латте\",\"колдбрю\"] else print(\"отличный выбор\")"
      ],
      "execution_count": 10,
      "outputs": [
        {
          "output_type": "stream",
          "text": [
            "какой кофе вы любите?латте\n",
            "я тоже!\n"
          ],
          "name": "stdout"
        }
      ]
    },
    {
      "cell_type": "code",
      "metadata": {
        "id": "DTtmNtqd9BB4",
        "colab_type": "code",
        "colab": {
          "base_uri": "https://localhost:8080/",
          "height": 51
        },
        "outputId": "1d185a39-4768-4c87-b67b-bb6871a05468"
      },
      "source": [
        "x = input(\"какой кофе вы любите?\").lower().strip(\"!.,?))()\")\n",
        "\n",
        "print(\"я тоже!\") if x in [\"американо\",\"латте\",\"колдбрю\"] else print(\"отличный выбор\")"
      ],
      "execution_count": 11,
      "outputs": [
        {
          "output_type": "stream",
          "text": [
            "какой кофе вы любите?латте!!!\n",
            "я тоже!\n"
          ],
          "name": "stdout"
        }
      ]
    },
    {
      "cell_type": "code",
      "metadata": {
        "id": "JBDTEM5X9KMm",
        "colab_type": "code",
        "colab": {
          "base_uri": "https://localhost:8080/",
          "height": 34
        },
        "outputId": "cef5123d-5ffd-4041-9c06-1b971da42244"
      },
      "source": [
        "1+True"
      ],
      "execution_count": 12,
      "outputs": [
        {
          "output_type": "execute_result",
          "data": {
            "text/plain": [
              "2"
            ]
          },
          "metadata": {
            "tags": []
          },
          "execution_count": 12
        }
      ]
    },
    {
      "cell_type": "code",
      "metadata": {
        "id": "l2UpFCnM9TNq",
        "colab_type": "code",
        "colab": {
          "base_uri": "https://localhost:8080/",
          "height": 102
        },
        "outputId": "2c375c07-fbb5-4ccd-e32c-5381d341e1f0"
      },
      "source": [
        "i = 5\n",
        "while i < 15:\n",
        "  print(i)\n",
        "  i = i+2"
      ],
      "execution_count": 13,
      "outputs": [
        {
          "output_type": "stream",
          "text": [
            "5\n",
            "7\n",
            "9\n",
            "11\n",
            "13\n"
          ],
          "name": "stdout"
        }
      ]
    },
    {
      "cell_type": "code",
      "metadata": {
        "id": "T35-XCuk9bjL",
        "colab_type": "code",
        "colab": {}
      },
      "source": [
        ""
      ],
      "execution_count": 0,
      "outputs": []
    }
  ]
}