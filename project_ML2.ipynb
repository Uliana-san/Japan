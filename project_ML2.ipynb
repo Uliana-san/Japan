{
  "nbformat": 4,
  "nbformat_minor": 0,
  "metadata": {
    "colab": {
      "name": "Untitled34.ipynb",
      "provenance": [],
      "authorship_tag": "ABX9TyMLM7SsOdE7iJ2iPGuZ8HkS",
      "include_colab_link": true
    },
    "kernelspec": {
      "name": "python3",
      "display_name": "Python 3"
    }
  },
  "cells": [
    {
      "cell_type": "markdown",
      "metadata": {
        "id": "view-in-github",
        "colab_type": "text"
      },
      "source": [
        "<a href=\"https://colab.research.google.com/github/Uliana-san/Japan/blob/master/project_ML2.ipynb\" target=\"_parent\"><img src=\"https://colab.research.google.com/assets/colab-badge.svg\" alt=\"Open In Colab\"/></a>"
      ]
    },
    {
      "cell_type": "code",
      "metadata": {
        "id": "rz7bbq59Omnp",
        "colab_type": "code",
        "colab": {
          "base_uri": "https://localhost:8080/",
          "height": 71
        },
        "outputId": "223566ad-464c-443e-f606-6fb92f215458"
      },
      "source": [
        "import re\n",
        "import numpy as np\n",
        "import pandas as pd\n",
        "from nltk import word_tokenize\n",
        "from nltk.corpus import stopwords\n",
        "import matplotlib.pyplot as plt\n",
        "import seaborn as sns\n",
        "\n",
        "%matplotlib inline"
      ],
      "execution_count": 1,
      "outputs": [
        {
          "output_type": "stream",
          "text": [
            "/usr/local/lib/python3.6/dist-packages/statsmodels/tools/_testing.py:19: FutureWarning: pandas.util.testing is deprecated. Use the functions in the public API at pandas.testing instead.\n",
            "  import pandas.util.testing as tm\n"
          ],
          "name": "stderr"
        }
      ]
    },
    {
      "cell_type": "markdown",
      "metadata": {
        "id": "8g0fApfueIiW",
        "colab_type": "text"
      },
      "source": [
        "Данные"
      ]
    },
    {
      "cell_type": "code",
      "metadata": {
        "id": "piDqK9wpOtOq",
        "colab_type": "code",
        "colab": {
          "resources": {
            "http://localhost:8080/nbextensions/google.colab/files.js": {
              "data": "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",
              "ok": true,
              "headers": [
                [
                  "content-type",
                  "application/javascript"
                ]
              ],
              "status": 200,
              "status_text": ""
            }
          },
          "base_uri": "https://localhost:8080/",
          "height": 71
        },
        "outputId": "c906ea1f-f048-44b5-8d2f-fe30c8af0b9e"
      },
      "source": [
        "# 1. запускаете эту ячейку\n",
        "# 2. ждёте\n",
        "# 3. внизу появляется кнопка с загрузкой с компьютера\n",
        "# 4. выбираете файл на компьютере и загружаете\n",
        "# 5. доооолго ждёте, пока` он скачается -_-\n",
        "from google.colab import files\n",
        "uploaded = files.upload()"
      ],
      "execution_count": 50,
      "outputs": [
        {
          "output_type": "display_data",
          "data": {
            "text/html": [
              "\n",
              "     <input type=\"file\" id=\"files-00e45398-1538-45d8-b4e8-e8711d8646de\" name=\"files[]\" multiple disabled />\n",
              "     <output id=\"result-00e45398-1538-45d8-b4e8-e8711d8646de\">\n",
              "      Upload widget is only available when the cell has been executed in the\n",
              "      current browser session. Please rerun this cell to enable.\n",
              "      </output>\n",
              "      <script src=\"/nbextensions/google.colab/files.js\"></script> "
            ],
            "text/plain": [
              "<IPython.core.display.HTML object>"
            ]
          },
          "metadata": {
            "tags": []
          }
        },
        {
          "output_type": "stream",
          "text": [
            "Saving AGT.csv to AGT (2).csv\n"
          ],
          "name": "stdout"
        }
      ]
    },
    {
      "cell_type": "code",
      "metadata": {
        "id": "BniJG9C2RheP",
        "colab_type": "code",
        "colab": {
          "base_uri": "https://localhost:8080/",
          "height": 207
        },
        "outputId": "c1f7f65f-c0cc-4488-c2fa-b8cd4fb42b6d"
      },
      "source": [
        "!head AGT.csv"
      ],
      "execution_count": 51,
      "outputs": [
        {
          "output_type": "stream",
          "text": [
            "tid;sid;cent;title;author;translator;year_trans;change_range;change_type;dia_change;add_W;ag_orig;ag_orig_range;ag_otype;ag_trans;ag_ttype;ag_tt_range;hedge_type;pred_orig;pred_trans;pred_ttype;pred_tt_range;text_orig;text_trans;;;;\r\n",
            "1;1;19;Idiot;Dostoevsky;Nakayama;1934;4;act_reduct;0;;впечатление;5;feeling;впечатление;feeling;5;;оставлять;nokoru;VINTR;5;давешнее впечатление почти не оставляло его;さっきの印象が、まだほとんど残っていたが、;;;;\r\n",
            "1;2;19;Idiot;Dostoevsky;Kimura;1970;5;hedge_body;0;hedge;впечатление;5;feeling;впечатление;feeling;5;心;оставлять;saru;VTRH;6;давешнее впечатление почти не оставляло его;先ほどの印象はあれからずっと彼の心を去らなかったので、;;;;\r\n",
            "1;3;19;Idiot;Dostoevsky;Mochizuki;2010;4;act_reduct;0;;впечатление;5;feeling;впечатление;feeling;5;;оставлять;nokoru;VINTR;5;давешнее впечатление почти не оставляло его;さっきの印象はほとんどそのままに残っていた;;;;\r\n",
            "1;4;19;Idiot;Dostoevsky;Kameyama;2015;4;act_reduct;0;hedge;впечатление;5;feeling;впечатление;feeling;5;心;оставлять;hanareru;VINTRH;4;давешнее впечатление почти не оставляло его;さっき受けた印象がなかなか心から離れず、;;;;\r\n",
            "1;5;19;Idiot;Dostoevsky;Nakayama;1934;1;sub_change;1;;мысль;4;intellect;человек;human;6;;поразить;suru;VTR;7;его неприятно поразила и мысль о записке;頼まれたことを思い、ガーニャがアグラーヤにやる手紙のことを思うと、不愉快な気持がしてならなかった。;;;;\r\n",
            "1;6;19;Idiot;Dostoevsky;Kimura;1970;1;sub_change;1;hedge;мысль;4;intellect;человек;human;6;心;поразить;ataeru;VTRH;6;его неприятно поразила и мысль о записке;…と考えることも心に不愉快なショックを与えた。;;;;\r\n",
            "1;7;19;Idiot;Dostoevsky;Mochizuki;2010;4;act_reduct;0;nom;мысль;4;intellect;мысль;intellect;4;;поразить;odoroki;N;2;его неприятно поразила и мысль о записке;考え自体も、また不快な驚きだった。;;;;\r\n",
            "1;8;19;Idiot;Dostoevsky;Kameyama;2015;1;sub_change;1;;мысль;4;intellect;человек;human;6;;поразить;oboeru;VTR;7;его неприятно поразила и мысль о записке;依頼は…こと自体に、不快な驚きを覚えていた。;;;;\r\n",
            "1;9;19;Idiot;Dostoevsky;Nakayama;1934;5;hedge_body;0;;чувство;5;feeling;чувство;feeling;5;心;уязвить;sasu ;VTRH;6;что-то тяжелое и неприятное как бы уязвило князя;何かしら、重苦しい、不愉快なものがあたかも公爵の心をちくりと刺したように思われた。;;;;\r\n"
          ],
          "name": "stdout"
        }
      ]
    },
    {
      "cell_type": "markdown",
      "metadata": {
        "id": "1ZhSTjEkeK6D",
        "colab_type": "text"
      },
      "source": [
        "Предобработка"
      ]
    },
    {
      "cell_type": "code",
      "metadata": {
        "id": "mAr2TTH0amc7",
        "colab_type": "code",
        "colab": {
          "base_uri": "https://localhost:8080/",
          "height": 1000
        },
        "outputId": "267749cf-0d99-4de6-d67d-b342df42e92e"
      },
      "source": [
        "df_AGT = pd.read_csv('AGT.csv', index_col='sid', sep = ';')\n",
        "df_AGT.dropna(subset=[\"ag_orig\"], inplace=True)\n",
        "df_AGT.dropna(subset=[\"ag_orig_range\"], inplace=True)\n",
        "df_AGT"
      ],
      "execution_count": 103,
      "outputs": [
        {
          "output_type": "execute_result",
          "data": {
            "text/html": [
              "<div>\n",
              "<style scoped>\n",
              "    .dataframe tbody tr th:only-of-type {\n",
              "        vertical-align: middle;\n",
              "    }\n",
              "\n",
              "    .dataframe tbody tr th {\n",
              "        vertical-align: top;\n",
              "    }\n",
              "\n",
              "    .dataframe thead th {\n",
              "        text-align: right;\n",
              "    }\n",
              "</style>\n",
              "<table border=\"1\" class=\"dataframe\">\n",
              "  <thead>\n",
              "    <tr style=\"text-align: right;\">\n",
              "      <th></th>\n",
              "      <th>tid</th>\n",
              "      <th>cent</th>\n",
              "      <th>title</th>\n",
              "      <th>author</th>\n",
              "      <th>translator</th>\n",
              "      <th>year_trans</th>\n",
              "      <th>change_range</th>\n",
              "      <th>change_type</th>\n",
              "      <th>dia_change</th>\n",
              "      <th>add_W</th>\n",
              "      <th>ag_orig</th>\n",
              "      <th>ag_orig_range</th>\n",
              "      <th>ag_otype</th>\n",
              "      <th>ag_trans</th>\n",
              "      <th>ag_ttype</th>\n",
              "      <th>ag_tt_range</th>\n",
              "      <th>hedge_type</th>\n",
              "      <th>pred_orig</th>\n",
              "      <th>pred_trans</th>\n",
              "      <th>pred_ttype</th>\n",
              "      <th>pred_tt_range</th>\n",
              "      <th>text_orig</th>\n",
              "      <th>text_trans</th>\n",
              "      <th>Unnamed: 24</th>\n",
              "      <th>Unnamed: 25</th>\n",
              "      <th>Unnamed: 26</th>\n",
              "      <th>Unnamed: 27</th>\n",
              "    </tr>\n",
              "    <tr>\n",
              "      <th>sid</th>\n",
              "      <th></th>\n",
              "      <th></th>\n",
              "      <th></th>\n",
              "      <th></th>\n",
              "      <th></th>\n",
              "      <th></th>\n",
              "      <th></th>\n",
              "      <th></th>\n",
              "      <th></th>\n",
              "      <th></th>\n",
              "      <th></th>\n",
              "      <th></th>\n",
              "      <th></th>\n",
              "      <th></th>\n",
              "      <th></th>\n",
              "      <th></th>\n",
              "      <th></th>\n",
              "      <th></th>\n",
              "      <th></th>\n",
              "      <th></th>\n",
              "      <th></th>\n",
              "      <th></th>\n",
              "      <th></th>\n",
              "      <th></th>\n",
              "      <th></th>\n",
              "      <th></th>\n",
              "      <th></th>\n",
              "    </tr>\n",
              "  </thead>\n",
              "  <tbody>\n",
              "    <tr>\n",
              "      <th>1.0</th>\n",
              "      <td>1.0</td>\n",
              "      <td>19.0</td>\n",
              "      <td>Idiot</td>\n",
              "      <td>Dostoevsky</td>\n",
              "      <td>Nakayama</td>\n",
              "      <td>1934.0</td>\n",
              "      <td>4.0</td>\n",
              "      <td>act_reduct</td>\n",
              "      <td>0.0</td>\n",
              "      <td>NaN</td>\n",
              "      <td>впечатление</td>\n",
              "      <td>5.0</td>\n",
              "      <td>feeling</td>\n",
              "      <td>впечатление</td>\n",
              "      <td>feeling</td>\n",
              "      <td>5.0</td>\n",
              "      <td>NaN</td>\n",
              "      <td>оставлять</td>\n",
              "      <td>nokoru</td>\n",
              "      <td>VINTR</td>\n",
              "      <td>5.0</td>\n",
              "      <td>давешнее впечатление почти не оставляло его</td>\n",
              "      <td>さっきの印象が、まだほとんど残っていたが、</td>\n",
              "      <td>NaN</td>\n",
              "      <td>NaN</td>\n",
              "      <td>NaN</td>\n",
              "      <td>NaN</td>\n",
              "    </tr>\n",
              "    <tr>\n",
              "      <th>2.0</th>\n",
              "      <td>1.0</td>\n",
              "      <td>19.0</td>\n",
              "      <td>Idiot</td>\n",
              "      <td>Dostoevsky</td>\n",
              "      <td>Kimura</td>\n",
              "      <td>1970.0</td>\n",
              "      <td>5.0</td>\n",
              "      <td>hedge_body</td>\n",
              "      <td>0.0</td>\n",
              "      <td>hedge</td>\n",
              "      <td>впечатление</td>\n",
              "      <td>5.0</td>\n",
              "      <td>feeling</td>\n",
              "      <td>впечатление</td>\n",
              "      <td>feeling</td>\n",
              "      <td>5.0</td>\n",
              "      <td>心</td>\n",
              "      <td>оставлять</td>\n",
              "      <td>saru</td>\n",
              "      <td>VTRH</td>\n",
              "      <td>6.0</td>\n",
              "      <td>давешнее впечатление почти не оставляло его</td>\n",
              "      <td>先ほどの印象はあれからずっと彼の心を去らなかったので、</td>\n",
              "      <td>NaN</td>\n",
              "      <td>NaN</td>\n",
              "      <td>NaN</td>\n",
              "      <td>NaN</td>\n",
              "    </tr>\n",
              "    <tr>\n",
              "      <th>3.0</th>\n",
              "      <td>1.0</td>\n",
              "      <td>19.0</td>\n",
              "      <td>Idiot</td>\n",
              "      <td>Dostoevsky</td>\n",
              "      <td>Mochizuki</td>\n",
              "      <td>2010.0</td>\n",
              "      <td>4.0</td>\n",
              "      <td>act_reduct</td>\n",
              "      <td>0.0</td>\n",
              "      <td>NaN</td>\n",
              "      <td>впечатление</td>\n",
              "      <td>5.0</td>\n",
              "      <td>feeling</td>\n",
              "      <td>впечатление</td>\n",
              "      <td>feeling</td>\n",
              "      <td>5.0</td>\n",
              "      <td>NaN</td>\n",
              "      <td>оставлять</td>\n",
              "      <td>nokoru</td>\n",
              "      <td>VINTR</td>\n",
              "      <td>5.0</td>\n",
              "      <td>давешнее впечатление почти не оставляло его</td>\n",
              "      <td>さっきの印象はほとんどそのままに残っていた</td>\n",
              "      <td>NaN</td>\n",
              "      <td>NaN</td>\n",
              "      <td>NaN</td>\n",
              "      <td>NaN</td>\n",
              "    </tr>\n",
              "    <tr>\n",
              "      <th>4.0</th>\n",
              "      <td>1.0</td>\n",
              "      <td>19.0</td>\n",
              "      <td>Idiot</td>\n",
              "      <td>Dostoevsky</td>\n",
              "      <td>Kameyama</td>\n",
              "      <td>2015.0</td>\n",
              "      <td>4.0</td>\n",
              "      <td>act_reduct</td>\n",
              "      <td>0.0</td>\n",
              "      <td>hedge</td>\n",
              "      <td>впечатление</td>\n",
              "      <td>5.0</td>\n",
              "      <td>feeling</td>\n",
              "      <td>впечатление</td>\n",
              "      <td>feeling</td>\n",
              "      <td>5.0</td>\n",
              "      <td>心</td>\n",
              "      <td>оставлять</td>\n",
              "      <td>hanareru</td>\n",
              "      <td>VINTRH</td>\n",
              "      <td>4.0</td>\n",
              "      <td>давешнее впечатление почти не оставляло его</td>\n",
              "      <td>さっき受けた印象がなかなか心から離れず、</td>\n",
              "      <td>NaN</td>\n",
              "      <td>NaN</td>\n",
              "      <td>NaN</td>\n",
              "      <td>NaN</td>\n",
              "    </tr>\n",
              "    <tr>\n",
              "      <th>5.0</th>\n",
              "      <td>1.0</td>\n",
              "      <td>19.0</td>\n",
              "      <td>Idiot</td>\n",
              "      <td>Dostoevsky</td>\n",
              "      <td>Nakayama</td>\n",
              "      <td>1934.0</td>\n",
              "      <td>1.0</td>\n",
              "      <td>sub_change</td>\n",
              "      <td>1.0</td>\n",
              "      <td>NaN</td>\n",
              "      <td>мысль</td>\n",
              "      <td>4.0</td>\n",
              "      <td>intellect</td>\n",
              "      <td>человек</td>\n",
              "      <td>human</td>\n",
              "      <td>6.0</td>\n",
              "      <td>NaN</td>\n",
              "      <td>поразить</td>\n",
              "      <td>suru</td>\n",
              "      <td>VTR</td>\n",
              "      <td>7.0</td>\n",
              "      <td>его неприятно поразила и мысль о записке</td>\n",
              "      <td>頼まれたことを思い、ガーニャがアグラーヤにやる手紙のことを思うと、不愉快な気持がしてならなかった。</td>\n",
              "      <td>NaN</td>\n",
              "      <td>NaN</td>\n",
              "      <td>NaN</td>\n",
              "      <td>NaN</td>\n",
              "    </tr>\n",
              "    <tr>\n",
              "      <th>...</th>\n",
              "      <td>...</td>\n",
              "      <td>...</td>\n",
              "      <td>...</td>\n",
              "      <td>...</td>\n",
              "      <td>...</td>\n",
              "      <td>...</td>\n",
              "      <td>...</td>\n",
              "      <td>...</td>\n",
              "      <td>...</td>\n",
              "      <td>...</td>\n",
              "      <td>...</td>\n",
              "      <td>...</td>\n",
              "      <td>...</td>\n",
              "      <td>...</td>\n",
              "      <td>...</td>\n",
              "      <td>...</td>\n",
              "      <td>...</td>\n",
              "      <td>...</td>\n",
              "      <td>...</td>\n",
              "      <td>...</td>\n",
              "      <td>...</td>\n",
              "      <td>...</td>\n",
              "      <td>...</td>\n",
              "      <td>...</td>\n",
              "      <td>...</td>\n",
              "      <td>...</td>\n",
              "      <td>...</td>\n",
              "    </tr>\n",
              "    <tr>\n",
              "      <th>680.0</th>\n",
              "      <td>21.0</td>\n",
              "      <td>20.0</td>\n",
              "      <td>Tsentrovka</td>\n",
              "      <td>Tokareva</td>\n",
              "      <td>KNumano</td>\n",
              "      <td>1998.0</td>\n",
              "      <td>1.0</td>\n",
              "      <td>sub_change</td>\n",
              "      <td>1.0</td>\n",
              "      <td>NaN</td>\n",
              "      <td>обстоятельства</td>\n",
              "      <td>3.0</td>\n",
              "      <td>circumstances</td>\n",
              "      <td>человек</td>\n",
              "      <td>human</td>\n",
              "      <td>6.0</td>\n",
              "      <td>NaN</td>\n",
              "      <td>вдохновлять</td>\n",
              "      <td>kandousuru</td>\n",
              "      <td>VINTR</td>\n",
              "      <td>5.0</td>\n",
              "      <td>это вдохновило меня до озноба.</td>\n",
              "      <td>そう思うと、背筋がぞくぞくするほど感動してしまった。</td>\n",
              "      <td>NaN</td>\n",
              "      <td>NaN</td>\n",
              "      <td>NaN</td>\n",
              "      <td>NaN</td>\n",
              "    </tr>\n",
              "    <tr>\n",
              "      <th>681.0</th>\n",
              "      <td>21.0</td>\n",
              "      <td>20.0</td>\n",
              "      <td>Tsentrovka</td>\n",
              "      <td>Tokareva</td>\n",
              "      <td>KNumano</td>\n",
              "      <td>1998.0</td>\n",
              "      <td>6.0</td>\n",
              "      <td>0</td>\n",
              "      <td>0.0</td>\n",
              "      <td>NaN</td>\n",
              "      <td>смерть</td>\n",
              "      <td>3.0</td>\n",
              "      <td>circumstances</td>\n",
              "      <td>смерть</td>\n",
              "      <td>circumstances</td>\n",
              "      <td>3.0</td>\n",
              "      <td>NaN</td>\n",
              "      <td>завладеть</td>\n",
              "      <td>gyuujiru</td>\n",
              "      <td>VTR</td>\n",
              "      <td>7.0</td>\n",
              "      <td>Смерть пришла как дело и жизнью завладела</td>\n",
              "      <td>死がなすべき務めのようにやって来て、生を牛耳ってしまった</td>\n",
              "      <td>NaN</td>\n",
              "      <td>NaN</td>\n",
              "      <td>NaN</td>\n",
              "      <td>NaN</td>\n",
              "    </tr>\n",
              "    <tr>\n",
              "      <th>682.0</th>\n",
              "      <td>21.0</td>\n",
              "      <td>20.0</td>\n",
              "      <td>Tsentrovka</td>\n",
              "      <td>Tokareva</td>\n",
              "      <td>KNumano</td>\n",
              "      <td>1998.0</td>\n",
              "      <td>6.0</td>\n",
              "      <td>0</td>\n",
              "      <td>0.0</td>\n",
              "      <td>NaN</td>\n",
              "      <td>игла</td>\n",
              "      <td>1.0</td>\n",
              "      <td>thing</td>\n",
              "      <td>игла</td>\n",
              "      <td>thing</td>\n",
              "      <td>1.0</td>\n",
              "      <td>NaN</td>\n",
              "      <td>пронзить</td>\n",
              "      <td>tsukisasu</td>\n",
              "      <td>VTR</td>\n",
              "      <td>7.0</td>\n",
              "      <td>Игла жалости пронзила меня насквозь.</td>\n",
              "      <td>哀れみのトゲが奥の奥まで突き刺さった</td>\n",
              "      <td>NaN</td>\n",
              "      <td>NaN</td>\n",
              "      <td>NaN</td>\n",
              "      <td>NaN</td>\n",
              "    </tr>\n",
              "    <tr>\n",
              "      <th>683.0</th>\n",
              "      <td>21.0</td>\n",
              "      <td>20.0</td>\n",
              "      <td>Tsentrovka</td>\n",
              "      <td>Tokareva</td>\n",
              "      <td>KNumano</td>\n",
              "      <td>1998.0</td>\n",
              "      <td>2.0</td>\n",
              "      <td>sub_change</td>\n",
              "      <td>1.0</td>\n",
              "      <td>NaN</td>\n",
              "      <td>смерть</td>\n",
              "      <td>3.0</td>\n",
              "      <td>circumstances</td>\n",
              "      <td>человек</td>\n",
              "      <td>human</td>\n",
              "      <td>6.0</td>\n",
              "      <td>NaN</td>\n",
              "      <td>интересовать</td>\n",
              "      <td>motsu</td>\n",
              "      <td>VTR</td>\n",
              "      <td>7.0</td>\n",
              "      <td>но даже Смерть ее не заинтересовала.</td>\n",
              "      <td>死神にさえ関心を持たなくなっていた</td>\n",
              "      <td>NaN</td>\n",
              "      <td>NaN</td>\n",
              "      <td>NaN</td>\n",
              "      <td>NaN</td>\n",
              "    </tr>\n",
              "    <tr>\n",
              "      <th>684.0</th>\n",
              "      <td>21.0</td>\n",
              "      <td>20.0</td>\n",
              "      <td>Tsentrovka</td>\n",
              "      <td>Tokareva</td>\n",
              "      <td>KNumano</td>\n",
              "      <td>1998.0</td>\n",
              "      <td>2.0</td>\n",
              "      <td>passive</td>\n",
              "      <td>1.0</td>\n",
              "      <td>pass</td>\n",
              "      <td>луна</td>\n",
              "      <td>2.0</td>\n",
              "      <td>nature</td>\n",
              "      <td>человек</td>\n",
              "      <td>human</td>\n",
              "      <td>6.0</td>\n",
              "      <td>NaN</td>\n",
              "      <td>врать</td>\n",
              "      <td>taburakasu</td>\n",
              "      <td>VP</td>\n",
              "      <td>1.0</td>\n",
              "      <td>Луна будет им врать своей многозначительностью</td>\n",
              "      <td>お月様の意味深長な様子にたぶらかされる</td>\n",
              "      <td>NaN</td>\n",
              "      <td>NaN</td>\n",
              "      <td>NaN</td>\n",
              "      <td>NaN</td>\n",
              "    </tr>\n",
              "  </tbody>\n",
              "</table>\n",
              "<p>684 rows × 27 columns</p>\n",
              "</div>"
            ],
            "text/plain": [
              "        tid  cent       title  ... Unnamed: 25 Unnamed: 26  Unnamed: 27\n",
              "sid                            ...                                     \n",
              "1.0     1.0  19.0       Idiot  ...         NaN         NaN          NaN\n",
              "2.0     1.0  19.0       Idiot  ...         NaN         NaN          NaN\n",
              "3.0     1.0  19.0       Idiot  ...         NaN         NaN          NaN\n",
              "4.0     1.0  19.0       Idiot  ...         NaN         NaN          NaN\n",
              "5.0     1.0  19.0       Idiot  ...         NaN         NaN          NaN\n",
              "...     ...   ...         ...  ...         ...         ...          ...\n",
              "680.0  21.0  20.0  Tsentrovka  ...         NaN         NaN          NaN\n",
              "681.0  21.0  20.0  Tsentrovka  ...         NaN         NaN          NaN\n",
              "682.0  21.0  20.0  Tsentrovka  ...         NaN         NaN          NaN\n",
              "683.0  21.0  20.0  Tsentrovka  ...         NaN         NaN          NaN\n",
              "684.0  21.0  20.0  Tsentrovka  ...         NaN         NaN          NaN\n",
              "\n",
              "[684 rows x 27 columns]"
            ]
          },
          "metadata": {
            "tags": []
          },
          "execution_count": 103
        }
      ]
    },
    {
      "cell_type": "code",
      "metadata": {
        "id": "Fc62iZP6SD5A",
        "colab_type": "code",
        "colab": {
          "base_uri": "https://localhost:8080/",
          "height": 86
        },
        "outputId": "0f760be3-2a24-4acf-e612-1f046b29a7fe"
      },
      "source": [
        "df_AGT = pd.read_csv('AGT.csv', sep = ';')\n",
        "df_AGT.dropna(inplace=True)\n",
        "df_AGT\n"
      ],
      "execution_count": 69,
      "outputs": [
        {
          "output_type": "execute_result",
          "data": {
            "text/html": [
              "<div>\n",
              "<style scoped>\n",
              "    .dataframe tbody tr th:only-of-type {\n",
              "        vertical-align: middle;\n",
              "    }\n",
              "\n",
              "    .dataframe tbody tr th {\n",
              "        vertical-align: top;\n",
              "    }\n",
              "\n",
              "    .dataframe thead th {\n",
              "        text-align: right;\n",
              "    }\n",
              "</style>\n",
              "<table border=\"1\" class=\"dataframe\">\n",
              "  <thead>\n",
              "    <tr style=\"text-align: right;\">\n",
              "      <th></th>\n",
              "      <th>tid</th>\n",
              "      <th>sid</th>\n",
              "      <th>cent</th>\n",
              "      <th>title</th>\n",
              "      <th>author</th>\n",
              "      <th>translator</th>\n",
              "      <th>year_trans</th>\n",
              "      <th>change_range</th>\n",
              "      <th>change_type</th>\n",
              "      <th>dia_change</th>\n",
              "      <th>add_W</th>\n",
              "      <th>ag_orig</th>\n",
              "      <th>ag_orig_range</th>\n",
              "      <th>ag_otype</th>\n",
              "      <th>ag_trans</th>\n",
              "      <th>ag_ttype</th>\n",
              "      <th>ag_tt_range</th>\n",
              "      <th>hedge_type</th>\n",
              "      <th>pred_orig</th>\n",
              "      <th>pred_trans</th>\n",
              "      <th>pred_ttype</th>\n",
              "      <th>pred_tt_range</th>\n",
              "      <th>text_orig</th>\n",
              "      <th>text_trans</th>\n",
              "      <th>Unnamed: 24</th>\n",
              "      <th>Unnamed: 25</th>\n",
              "      <th>Unnamed: 26</th>\n",
              "      <th>Unnamed: 27</th>\n",
              "    </tr>\n",
              "  </thead>\n",
              "  <tbody>\n",
              "  </tbody>\n",
              "</table>\n",
              "</div>"
            ],
            "text/plain": [
              "Empty DataFrame\n",
              "Columns: [tid, sid, cent, title, author, translator, year_trans, change_range, change_type, dia_change, add_W, ag_orig, ag_orig_range, ag_otype, ag_trans, ag_ttype, ag_tt_range, hedge_type, pred_orig, pred_trans, pred_ttype, pred_tt_range, text_orig, text_trans, Unnamed: 24, Unnamed: 25, Unnamed: 26, Unnamed: 27]\n",
              "Index: []"
            ]
          },
          "metadata": {
            "tags": []
          },
          "execution_count": 69
        }
      ]
    },
    {
      "cell_type": "code",
      "metadata": {
        "id": "sQGTgIdrYGEh",
        "colab_type": "code",
        "colab": {
          "base_uri": "https://localhost:8080/",
          "height": 34
        },
        "outputId": "2561964e-d258-4ff1-f540-9f49fed43702"
      },
      "source": [
        "print(df_AGT['ag_orig'].iloc[8])"
      ],
      "execution_count": 57,
      "outputs": [
        {
          "output_type": "stream",
          "text": [
            "чувство\n"
          ],
          "name": "stdout"
        }
      ]
    },
    {
      "cell_type": "code",
      "metadata": {
        "id": "Dxru8sSMbR9E",
        "colab_type": "code",
        "colab": {
          "base_uri": "https://localhost:8080/",
          "height": 68
        },
        "outputId": "423b7678-fa90-4644-c404-9c4e11def97c"
      },
      "source": [
        "import nltk\n",
        "nltk.download('stopwords')"
      ],
      "execution_count": 58,
      "outputs": [
        {
          "output_type": "stream",
          "text": [
            "[nltk_data] Downloading package stopwords to /root/nltk_data...\n",
            "[nltk_data]   Package stopwords is already up-to-date!\n"
          ],
          "name": "stdout"
        },
        {
          "output_type": "execute_result",
          "data": {
            "text/plain": [
              "True"
            ]
          },
          "metadata": {
            "tags": []
          },
          "execution_count": 58
        }
      ]
    },
    {
      "cell_type": "code",
      "metadata": {
        "id": "ETN67NMnbWjz",
        "colab_type": "code",
        "colab": {
          "base_uri": "https://localhost:8080/",
          "height": 34
        },
        "outputId": "f3b9ef80-de19-4046-d60c-a3baae92cf8f"
      },
      "source": [
        "# Загрузили стопслова для русского языка из nltk\n",
        "stopset = stopwords.words('russian')\n",
        "stopset[:10]"
      ],
      "execution_count": 59,
      "outputs": [
        {
          "output_type": "execute_result",
          "data": {
            "text/plain": [
              "['и', 'в', 'во', 'не', 'что', 'он', 'на', 'я', 'с', 'со']"
            ]
          },
          "metadata": {
            "tags": []
          },
          "execution_count": 59
        }
      ]
    },
    {
      "cell_type": "code",
      "metadata": {
        "id": "v1Vh6Cz7bbqQ",
        "colab_type": "code",
        "colab": {
          "base_uri": "https://localhost:8080/",
          "height": 68
        },
        "outputId": "4756e503-3c78-4592-84e9-42206abd0df8"
      },
      "source": [
        "nltk.download('punkt')"
      ],
      "execution_count": 60,
      "outputs": [
        {
          "output_type": "stream",
          "text": [
            "[nltk_data] Downloading package punkt to /root/nltk_data...\n",
            "[nltk_data]   Package punkt is already up-to-date!\n"
          ],
          "name": "stdout"
        },
        {
          "output_type": "execute_result",
          "data": {
            "text/plain": [
              "True"
            ]
          },
          "metadata": {
            "tags": []
          },
          "execution_count": 60
        }
      ]
    },
    {
      "cell_type": "code",
      "metadata": {
        "id": "CRIeBNsDbf4m",
        "colab_type": "code",
        "colab": {}
      },
      "source": [
        "# Токенизация, чистка\n",
        "def tokenize(msg):\n",
        "    # убрали знаки препинания и привели к нижнему регистру\n",
        "    msg = re.sub('[!\"?/\\\\().:;,-]', '', msg).lower()\n",
        "    msg = [w for w in word_tokenize(msg) if not w in stopset] # токенизировали и избавились от стоп слов\n",
        "    return msg"
      ],
      "execution_count": 0,
      "outputs": []
    },
    {
      "cell_type": "code",
      "metadata": {
        "id": "BcYbFZGDbpxa",
        "colab_type": "code",
        "colab": {
          "base_uri": "https://localhost:8080/",
          "height": 34
        },
        "outputId": "2157d403-1181-42b4-c513-bc8910f87313"
      },
      "source": [
        "tokenize(df_AGT['ag_orig'].iloc[7])[:10]"
      ],
      "execution_count": 63,
      "outputs": [
        {
          "output_type": "execute_result",
          "data": {
            "text/plain": [
              "['мысль']"
            ]
          },
          "metadata": {
            "tags": []
          },
          "execution_count": 63
        }
      ]
    },
    {
      "cell_type": "code",
      "metadata": {
        "id": "_8-SVvuoclOQ",
        "colab_type": "code",
        "colab": {
          "base_uri": "https://localhost:8080/",
          "height": 298
        },
        "outputId": "6da6ec0b-f905-4c78-998e-39cce9fdc350"
      },
      "source": [
        "sns.countplot(x=df_AGT['ag_orig'], data=df_AGT, palette=\"Set3\") "
      ],
      "execution_count": 64,
      "outputs": [
        {
          "output_type": "execute_result",
          "data": {
            "text/plain": [
              "<matplotlib.axes._subplots.AxesSubplot at 0x7f023324af28>"
            ]
          },
          "metadata": {
            "tags": []
          },
          "execution_count": 64
        },
        {
          "output_type": "display_data",
          "data": {
            "image/png": "[encoded data removed]",
            "text/plain": [
              "<Figure size 432x288 with 1 Axes>"
            ]
          },
          "metadata": {
            "tags": [],
            "needs_background": "light"
          }
        }
      ]
    },
    {
      "cell_type": "markdown",
      "metadata": {
        "id": "rjgTGLH7drAm",
        "colab_type": "text"
      },
      "source": [
        "Tf-idf преобразование"
      ]
    },
    {
      "cell_type": "code",
      "metadata": {
        "id": "prNICtb5cmbe",
        "colab_type": "code",
        "colab": {}
      },
      "source": [
        "from sklearn.feature_extraction.text import TfidfVectorizer"
      ],
      "execution_count": 0,
      "outputs": []
    },
    {
      "cell_type": "code",
      "metadata": {
        "id": "mQ418K6_cuG0",
        "colab_type": "code",
        "colab": {}
      },
      "source": [
        "bow_tfidf = TfidfVectorizer(tokenizer=tokenize)\n",
        "bowed_AGT = bow_tfidf.fit_transform(df_AGT['ag_orig'])"
      ],
      "execution_count": 0,
      "outputs": []
    },
    {
      "cell_type": "code",
      "metadata": {
        "id": "NDhPQJrpc_Y5",
        "colab_type": "code",
        "colab": {
          "base_uri": "https://localhost:8080/",
          "height": 51
        },
        "outputId": "5b73e4a2-06c5-4598-cafd-a5269a88a2d4"
      },
      "source": [
        "bowed_AGT"
      ],
      "execution_count": 85,
      "outputs": [
        {
          "output_type": "execute_result",
          "data": {
            "text/plain": [
              "<688x213 sparse matrix of type '<class 'numpy.float64'>'\n",
              "\twith 689 stored elements in Compressed Sparse Row format>"
            ]
          },
          "metadata": {
            "tags": []
          },
          "execution_count": 85
        }
      ]
    },
    {
      "cell_type": "markdown",
      "metadata": {
        "id": "Ho3-5niddliQ",
        "colab_type": "text"
      },
      "source": [
        "Кластеризация"
      ]
    },
    {
      "cell_type": "code",
      "metadata": {
        "id": "SaVo68K-dKen",
        "colab_type": "code",
        "colab": {}
      },
      "source": [
        "from sklearn.cluster import KMeans"
      ],
      "execution_count": 0,
      "outputs": []
    },
    {
      "cell_type": "code",
      "metadata": {
        "id": "nnDX3s31dQMD",
        "colab_type": "code",
        "colab": {
          "base_uri": "https://localhost:8080/",
          "height": 68
        },
        "outputId": "cea748f8-a207-45d5-f353-6987313c8658"
      },
      "source": [
        "model = KMeans(n_clusters=9, init='k-means++', max_iter=100, n_init=1, random_state=37)\n",
        "model.fit(bowed_AGT)"
      ],
      "execution_count": 109,
      "outputs": [
        {
          "output_type": "execute_result",
          "data": {
            "text/plain": [
              "KMeans(algorithm='auto', copy_x=True, init='k-means++', max_iter=100,\n",
              "       n_clusters=9, n_init=1, n_jobs=None, precompute_distances='auto',\n",
              "       random_state=37, tol=0.0001, verbose=0)"
            ]
          },
          "metadata": {
            "tags": []
          },
          "execution_count": 109
        }
      ]
    },
    {
      "cell_type": "code",
      "metadata": {
        "id": "GnAxOmwvdUzH",
        "colab_type": "code",
        "colab": {
          "base_uri": "https://localhost:8080/",
          "height": 34
        },
        "outputId": "85ab1a9b-8e4e-406d-e584-0473ca17d945"
      },
      "source": [
        "len(model.cluster_centers_)"
      ],
      "execution_count": 110,
      "outputs": [
        {
          "output_type": "execute_result",
          "data": {
            "text/plain": [
              "9"
            ]
          },
          "metadata": {
            "tags": []
          },
          "execution_count": 110
        }
      ]
    },
    {
      "cell_type": "code",
      "metadata": {
        "id": "aT5LC6tfdboT",
        "colab_type": "code",
        "colab": {
          "base_uri": "https://localhost:8080/",
          "height": 799
        },
        "outputId": "bf429380-f080-4cd3-bb23-64a1cfbd4042"
      },
      "source": [
        "print(\"Top terms per cluster:\")\n",
        "order_centroids = model.cluster_centers_.argsort()[:, ::-1] # индексы слов, по мере убывания близости к центру\n",
        "terms = bow_tfidf.get_feature_names() # массив слов в том порядке, в котором их помнит kmeans\n",
        "for i in range(9):\n",
        "    print(\"Cluster %d:\" % i),\n",
        "    for ind in order_centroids[i, :3]: # печатаем 10 самых близких\n",
        "        print(terms[ind])\n",
        "    print()"
      ],
      "execution_count": 113,
      "outputs": [
        {
          "output_type": "stream",
          "text": [
            "Top terms per cluster:\n",
            "Cluster 0:\n",
            "судьба\n",
            "улыбка\n",
            "жизнь\n",
            "\n",
            "Cluster 1:\n",
            "поцелуй\n",
            "это\n",
            "лоб\n",
            "\n",
            "Cluster 2:\n",
            "мысль\n",
            "испуг\n",
            "кровь\n",
            "\n",
            "Cluster 3:\n",
            "радость\n",
            "это\n",
            "кабинет\n",
            "\n",
            "Cluster 4:\n",
            "тоска\n",
            "это\n",
            "кабинет\n",
            "\n",
            "Cluster 5:\n",
            "смерть\n",
            "это\n",
            "кабинет\n",
            "\n",
            "Cluster 6:\n",
            "обстоятельства\n",
            "это\n",
            "испуг\n",
            "\n",
            "Cluster 7:\n",
            "чувство\n",
            "это\n",
            "испуг\n",
            "\n",
            "Cluster 8:\n",
            "дрожь\n",
            "это\n",
            "кабинет\n",
            "\n"
          ],
          "name": "stdout"
        }
      ]
    },
    {
      "cell_type": "markdown",
      "metadata": {
        "id": "HCOIFiuHd_ro",
        "colab_type": "text"
      },
      "source": [
        "Оценка"
      ]
    },
    {
      "cell_type": "code",
      "metadata": {
        "id": "otTPeOQGdgNK",
        "colab_type": "code",
        "colab": {}
      },
      "source": [
        "from sklearn.metrics import adjusted_rand_score, homogeneity_score, completeness_score, v_measure_score"
      ],
      "execution_count": 0,
      "outputs": []
    },
    {
      "cell_type": "code",
      "metadata": {
        "id": "pED2wYt6eaHB",
        "colab_type": "code",
        "colab": {}
      },
      "source": [
        "labels = df_AGT.ag_orig_range # истинные метки событий\n",
        "clust_labels = model.labels_ # метки номеров кластеров, возвращённых алгортмом"
      ],
      "execution_count": 0,
      "outputs": []
    },
    {
      "cell_type": "markdown",
      "metadata": {
        "id": "mVZ2DWy7etfD",
        "colab_type": "text"
      },
      "source": [
        "Меряем Adjusted Rand Index.\n",
        "\n",
        "Rand Index (RI) выражает схожесть двух разных кластеризаций одной и той же выборки."
      ]
    },
    {
      "cell_type": "code",
      "metadata": {
        "id": "X0vNKsA7edjv",
        "colab_type": "code",
        "colab": {
          "base_uri": "https://localhost:8080/",
          "height": 307
        },
        "outputId": "a52d3f93-e8de-4bc5-b47a-b847618bacd7"
      },
      "source": [
        "print(\"Adjusted Rand-Index:\",  adjusted_rand_score(labels, clust_labels))"
      ],
      "execution_count": 105,
      "outputs": [
        {
          "output_type": "error",
          "ename": "ValueError",
          "evalue": "ignored",
          "traceback": [
            "\u001b[0;31m---------------------------------------------------------------------------\u001b[0m",
            "\u001b[0;31mValueError\u001b[0m                                Traceback (most recent call last)",
            "\u001b[0;32m<ipython-input-105-347ac742638f>\u001b[0m in \u001b[0;36m<module>\u001b[0;34m()\u001b[0m\n\u001b[0;32m----> 1\u001b[0;31m \u001b[0mprint\u001b[0m\u001b[0;34m(\u001b[0m\u001b[0;34m\"Adjusted Rand-Index:\"\u001b[0m\u001b[0;34m,\u001b[0m  \u001b[0madjusted_rand_score\u001b[0m\u001b[0;34m(\u001b[0m\u001b[0mlabels\u001b[0m\u001b[0;34m,\u001b[0m \u001b[0mclust_labels\u001b[0m\u001b[0;34m)\u001b[0m\u001b[0;34m)\u001b[0m\u001b[0;34m\u001b[0m\u001b[0;34m\u001b[0m\u001b[0m\n\u001b[0m",
            "\u001b[0;32m/usr/local/lib/python3.6/dist-packages/sklearn/metrics/cluster/_supervised.py\u001b[0m in \u001b[0;36madjusted_rand_score\u001b[0;34m(labels_true, labels_pred)\u001b[0m\n\u001b[1;32m    217\u001b[0m \u001b[0;34m\u001b[0m\u001b[0m\n\u001b[1;32m    218\u001b[0m     \"\"\"\n\u001b[0;32m--> 219\u001b[0;31m     \u001b[0mlabels_true\u001b[0m\u001b[0;34m,\u001b[0m \u001b[0mlabels_pred\u001b[0m \u001b[0;34m=\u001b[0m \u001b[0mcheck_clusterings\u001b[0m\u001b[0;34m(\u001b[0m\u001b[0mlabels_true\u001b[0m\u001b[0;34m,\u001b[0m \u001b[0mlabels_pred\u001b[0m\u001b[0;34m)\u001b[0m\u001b[0;34m\u001b[0m\u001b[0;34m\u001b[0m\u001b[0m\n\u001b[0m\u001b[1;32m    220\u001b[0m     \u001b[0mn_samples\u001b[0m \u001b[0;34m=\u001b[0m \u001b[0mlabels_true\u001b[0m\u001b[0;34m.\u001b[0m\u001b[0mshape\u001b[0m\u001b[0;34m[\u001b[0m\u001b[0;36m0\u001b[0m\u001b[0;34m]\u001b[0m\u001b[0;34m\u001b[0m\u001b[0;34m\u001b[0m\u001b[0m\n\u001b[1;32m    221\u001b[0m     \u001b[0mn_classes\u001b[0m \u001b[0;34m=\u001b[0m \u001b[0mnp\u001b[0m\u001b[0;34m.\u001b[0m\u001b[0munique\u001b[0m\u001b[0;34m(\u001b[0m\u001b[0mlabels_true\u001b[0m\u001b[0;34m)\u001b[0m\u001b[0;34m.\u001b[0m\u001b[0mshape\u001b[0m\u001b[0;34m[\u001b[0m\u001b[0;36m0\u001b[0m\u001b[0;34m]\u001b[0m\u001b[0;34m\u001b[0m\u001b[0;34m\u001b[0m\u001b[0m\n",
            "\u001b[0;32m/usr/local/lib/python3.6/dist-packages/sklearn/metrics/cluster/_supervised.py\u001b[0m in \u001b[0;36mcheck_clusterings\u001b[0;34m(labels_true, labels_pred)\u001b[0m\n\u001b[1;32m     57\u001b[0m         raise ValueError(\n\u001b[1;32m     58\u001b[0m             \"labels_pred must be 1D: shape is %r\" % (labels_pred.shape,))\n\u001b[0;32m---> 59\u001b[0;31m     \u001b[0mcheck_consistent_length\u001b[0m\u001b[0;34m(\u001b[0m\u001b[0mlabels_true\u001b[0m\u001b[0;34m,\u001b[0m \u001b[0mlabels_pred\u001b[0m\u001b[0;34m)\u001b[0m\u001b[0;34m\u001b[0m\u001b[0;34m\u001b[0m\u001b[0m\n\u001b[0m\u001b[1;32m     60\u001b[0m \u001b[0;34m\u001b[0m\u001b[0m\n\u001b[1;32m     61\u001b[0m     \u001b[0;32mreturn\u001b[0m \u001b[0mlabels_true\u001b[0m\u001b[0;34m,\u001b[0m \u001b[0mlabels_pred\u001b[0m\u001b[0;34m\u001b[0m\u001b[0;34m\u001b[0m\u001b[0m\n",
            "\u001b[0;32m/usr/local/lib/python3.6/dist-packages/sklearn/utils/validation.py\u001b[0m in \u001b[0;36mcheck_consistent_length\u001b[0;34m(*arrays)\u001b[0m\n\u001b[1;32m    210\u001b[0m     \u001b[0;32mif\u001b[0m \u001b[0mlen\u001b[0m\u001b[0;34m(\u001b[0m\u001b[0muniques\u001b[0m\u001b[0;34m)\u001b[0m \u001b[0;34m>\u001b[0m \u001b[0;36m1\u001b[0m\u001b[0;34m:\u001b[0m\u001b[0;34m\u001b[0m\u001b[0;34m\u001b[0m\u001b[0m\n\u001b[1;32m    211\u001b[0m         raise ValueError(\"Found input variables with inconsistent numbers of\"\n\u001b[0;32m--> 212\u001b[0;31m                          \" samples: %r\" % [int(l) for l in lengths])\n\u001b[0m\u001b[1;32m    213\u001b[0m \u001b[0;34m\u001b[0m\u001b[0m\n\u001b[1;32m    214\u001b[0m \u001b[0;34m\u001b[0m\u001b[0m\n",
            "\u001b[0;31mValueError\u001b[0m: Found input variables with inconsistent numbers of samples: [684, 688]"
          ]
        }
      ]
    },
    {
      "cell_type": "markdown",
      "metadata": {
        "id": "beqTn2AXe0Pj",
        "colab_type": "text"
      },
      "source": [
        "Меряем гомогенность, полноту и V-меру."
      ]
    },
    {
      "cell_type": "code",
      "metadata": {
        "id": "kq077iYZeiga",
        "colab_type": "code",
        "colab": {
          "base_uri": "https://localhost:8080/",
          "height": 341
        },
        "outputId": "b55feaa0-7118-49d6-fb49-07dcdfbedd91"
      },
      "source": [
        "print(\"Гомогенность:\", homogeneity_score(labels, clust_labels))\n",
        "print(\"Полнота:\", completeness_score(labels, clust_labels))\n",
        "print(\"V-мера\",  v_measure_score(labels, clust_labels))"
      ],
      "execution_count": 106,
      "outputs": [
        {
          "output_type": "error",
          "ename": "ValueError",
          "evalue": "ignored",
          "traceback": [
            "\u001b[0;31m---------------------------------------------------------------------------\u001b[0m",
            "\u001b[0;31mValueError\u001b[0m                                Traceback (most recent call last)",
            "\u001b[0;32m<ipython-input-106-6c33219ff8b1>\u001b[0m in \u001b[0;36m<module>\u001b[0;34m()\u001b[0m\n\u001b[0;32m----> 1\u001b[0;31m \u001b[0mprint\u001b[0m\u001b[0;34m(\u001b[0m\u001b[0;34m\"Гомогенность:\"\u001b[0m\u001b[0;34m,\u001b[0m \u001b[0mhomogeneity_score\u001b[0m\u001b[0;34m(\u001b[0m\u001b[0mlabels\u001b[0m\u001b[0;34m,\u001b[0m \u001b[0mclust_labels\u001b[0m\u001b[0;34m)\u001b[0m\u001b[0;34m)\u001b[0m\u001b[0;34m\u001b[0m\u001b[0;34m\u001b[0m\u001b[0m\n\u001b[0m\u001b[1;32m      2\u001b[0m \u001b[0mprint\u001b[0m\u001b[0;34m(\u001b[0m\u001b[0;34m\"Полнота:\"\u001b[0m\u001b[0;34m,\u001b[0m \u001b[0mcompleteness_score\u001b[0m\u001b[0;34m(\u001b[0m\u001b[0mlabels\u001b[0m\u001b[0;34m,\u001b[0m \u001b[0mclust_labels\u001b[0m\u001b[0;34m)\u001b[0m\u001b[0;34m)\u001b[0m\u001b[0;34m\u001b[0m\u001b[0;34m\u001b[0m\u001b[0m\n\u001b[1;32m      3\u001b[0m \u001b[0mprint\u001b[0m\u001b[0;34m(\u001b[0m\u001b[0;34m\"V-мера\"\u001b[0m\u001b[0;34m,\u001b[0m  \u001b[0mv_measure_score\u001b[0m\u001b[0;34m(\u001b[0m\u001b[0mlabels\u001b[0m\u001b[0;34m,\u001b[0m \u001b[0mclust_labels\u001b[0m\u001b[0;34m)\u001b[0m\u001b[0;34m)\u001b[0m\u001b[0;34m\u001b[0m\u001b[0;34m\u001b[0m\u001b[0m\n",
            "\u001b[0;32m/usr/local/lib/python3.6/dist-packages/sklearn/metrics/cluster/_supervised.py\u001b[0m in \u001b[0;36mhomogeneity_score\u001b[0;34m(labels_true, labels_pred)\u001b[0m\n\u001b[1;32m    390\u001b[0m \u001b[0;34m\u001b[0m\u001b[0m\n\u001b[1;32m    391\u001b[0m     \"\"\"\n\u001b[0;32m--> 392\u001b[0;31m     \u001b[0;32mreturn\u001b[0m \u001b[0mhomogeneity_completeness_v_measure\u001b[0m\u001b[0;34m(\u001b[0m\u001b[0mlabels_true\u001b[0m\u001b[0;34m,\u001b[0m \u001b[0mlabels_pred\u001b[0m\u001b[0;34m)\u001b[0m\u001b[0;34m[\u001b[0m\u001b[0;36m0\u001b[0m\u001b[0;34m]\u001b[0m\u001b[0;34m\u001b[0m\u001b[0;34m\u001b[0m\u001b[0m\n\u001b[0m\u001b[1;32m    393\u001b[0m \u001b[0;34m\u001b[0m\u001b[0m\n\u001b[1;32m    394\u001b[0m \u001b[0;34m\u001b[0m\u001b[0m\n",
            "\u001b[0;32m/usr/local/lib/python3.6/dist-packages/sklearn/metrics/cluster/_supervised.py\u001b[0m in \u001b[0;36mhomogeneity_completeness_v_measure\u001b[0;34m(labels_true, labels_pred, beta)\u001b[0m\n\u001b[1;32m    300\u001b[0m     \u001b[0mv_measure_score\u001b[0m\u001b[0;34m\u001b[0m\u001b[0;34m\u001b[0m\u001b[0m\n\u001b[1;32m    301\u001b[0m     \"\"\"\n\u001b[0;32m--> 302\u001b[0;31m     \u001b[0mlabels_true\u001b[0m\u001b[0;34m,\u001b[0m \u001b[0mlabels_pred\u001b[0m \u001b[0;34m=\u001b[0m \u001b[0mcheck_clusterings\u001b[0m\u001b[0;34m(\u001b[0m\u001b[0mlabels_true\u001b[0m\u001b[0;34m,\u001b[0m \u001b[0mlabels_pred\u001b[0m\u001b[0;34m)\u001b[0m\u001b[0;34m\u001b[0m\u001b[0;34m\u001b[0m\u001b[0m\n\u001b[0m\u001b[1;32m    303\u001b[0m \u001b[0;34m\u001b[0m\u001b[0m\n\u001b[1;32m    304\u001b[0m     \u001b[0;32mif\u001b[0m \u001b[0mlen\u001b[0m\u001b[0;34m(\u001b[0m\u001b[0mlabels_true\u001b[0m\u001b[0;34m)\u001b[0m \u001b[0;34m==\u001b[0m \u001b[0;36m0\u001b[0m\u001b[0;34m:\u001b[0m\u001b[0;34m\u001b[0m\u001b[0;34m\u001b[0m\u001b[0m\n",
            "\u001b[0;32m/usr/local/lib/python3.6/dist-packages/sklearn/metrics/cluster/_supervised.py\u001b[0m in \u001b[0;36mcheck_clusterings\u001b[0;34m(labels_true, labels_pred)\u001b[0m\n\u001b[1;32m     57\u001b[0m         raise ValueError(\n\u001b[1;32m     58\u001b[0m             \"labels_pred must be 1D: shape is %r\" % (labels_pred.shape,))\n\u001b[0;32m---> 59\u001b[0;31m     \u001b[0mcheck_consistent_length\u001b[0m\u001b[0;34m(\u001b[0m\u001b[0mlabels_true\u001b[0m\u001b[0;34m,\u001b[0m \u001b[0mlabels_pred\u001b[0m\u001b[0;34m)\u001b[0m\u001b[0;34m\u001b[0m\u001b[0;34m\u001b[0m\u001b[0m\n\u001b[0m\u001b[1;32m     60\u001b[0m \u001b[0;34m\u001b[0m\u001b[0m\n\u001b[1;32m     61\u001b[0m     \u001b[0;32mreturn\u001b[0m \u001b[0mlabels_true\u001b[0m\u001b[0;34m,\u001b[0m \u001b[0mlabels_pred\u001b[0m\u001b[0;34m\u001b[0m\u001b[0;34m\u001b[0m\u001b[0m\n",
            "\u001b[0;32m/usr/local/lib/python3.6/dist-packages/sklearn/utils/validation.py\u001b[0m in \u001b[0;36mcheck_consistent_length\u001b[0;34m(*arrays)\u001b[0m\n\u001b[1;32m    210\u001b[0m     \u001b[0;32mif\u001b[0m \u001b[0mlen\u001b[0m\u001b[0;34m(\u001b[0m\u001b[0muniques\u001b[0m\u001b[0;34m)\u001b[0m \u001b[0;34m>\u001b[0m \u001b[0;36m1\u001b[0m\u001b[0;34m:\u001b[0m\u001b[0;34m\u001b[0m\u001b[0;34m\u001b[0m\u001b[0m\n\u001b[1;32m    211\u001b[0m         raise ValueError(\"Found input variables with inconsistent numbers of\"\n\u001b[0;32m--> 212\u001b[0;31m                          \" samples: %r\" % [int(l) for l in lengths])\n\u001b[0m\u001b[1;32m    213\u001b[0m \u001b[0;34m\u001b[0m\u001b[0m\n\u001b[1;32m    214\u001b[0m \u001b[0;34m\u001b[0m\u001b[0m\n",
            "\u001b[0;31mValueError\u001b[0m: Found input variables with inconsistent numbers of samples: [684, 688]"
          ]
        }
      ]
    },
    {
      "cell_type": "code",
      "metadata": {
        "id": "XlaVYGHVe4wM",
        "colab_type": "code",
        "colab": {}
      },
      "source": [
        ""
      ],
      "execution_count": 0,
      "outputs": []
    }
  ]
}