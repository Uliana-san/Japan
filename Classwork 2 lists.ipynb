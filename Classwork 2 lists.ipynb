{
  "nbformat": 4,
  "nbformat_minor": 0,
  "metadata": {
    "colab": {
      "name": "Untitled1.ipynb",
      "provenance": [],
      "include_colab_link": true
    },
    "kernelspec": {
      "name": "python3",
      "display_name": "Python 3"
    }
  },
  "cells": [
    {
      "cell_type": "markdown",
      "metadata": {
        "id": "view-in-github",
        "colab_type": "text"
      },
      "source": [
        "<a href=\"https://colab.research.google.com/github/Uliana-san/Japan/blob/master/Classwork%202%20lists.ipynb\" target=\"_parent\"><img src=\"https://colab.research.google.com/assets/colab-badge.svg\" alt=\"Open In Colab\"/></a>"
      ]
    },
    {
      "cell_type": "code",
      "metadata": {
        "id": "RRnOuqxP5_p7",
        "colab_type": "code",
        "colab": {}
      },
      "source": [
        "my_list = [5,\"строки тоже можно\",7.09,\"lalala\"]"
      ],
      "execution_count": 0,
      "outputs": []
    },
    {
      "cell_type": "code",
      "metadata": {
        "id": "hJB_dGxA6IQb",
        "colab_type": "code",
        "colab": {
          "base_uri": "https://localhost:8080/",
          "height": 34
        },
        "outputId": "579191dc-672a-4d37-ae17-99f128e61a76"
      },
      "source": [
        "list(\"saturday\")\n",
        "print(list(\"saturday\"))"
      ],
      "execution_count": 1,
      "outputs": [
        {
          "output_type": "stream",
          "text": [
            "['s', 'a', 't', 'u', 'r', 'd', 'a', 'y']\n"
          ],
          "name": "stdout"
        }
      ]
    },
    {
      "cell_type": "code",
      "metadata": {
        "id": "cCnx6lOm6MEn",
        "colab_type": "code",
        "colab": {}
      },
      "source": [
        "new = list(\"saturday\")\n",
        "print(new)"
      ],
      "execution_count": 0,
      "outputs": []
    },
    {
      "cell_type": "code",
      "metadata": {
        "id": "FuXyzIFu6Yv5",
        "colab_type": "code",
        "colab": {}
      },
      "source": [
        "new_list = [[2,6,7],[4.08,\"hello\"],3]\n",
        "print(new_list[-1])"
      ],
      "execution_count": 0,
      "outputs": []
    },
    {
      "cell_type": "code",
      "metadata": {
        "id": "iWogVe-56d8S",
        "colab_type": "code",
        "colab": {}
      },
      "source": [
        "new_list = [[2,6,7],[4.08,\"hello\"],3]\n",
        "print(new_list[0][1])"
      ],
      "execution_count": 0,
      "outputs": []
    },
    {
      "cell_type": "code",
      "metadata": {
        "id": "1J7aFfUx6iDD",
        "colab_type": "code",
        "colab": {
          "base_uri": "https://localhost:8080/",
          "height": 34
        },
        "outputId": "8801155c-1e09-4265-fed4-c206b38e448d"
      },
      "source": [
        "new_list = [[2,6,[\"hi\",\"bye\"],7],[4.08,\"hello\"],3]\n",
        "print(new_list[0][2][0])"
      ],
      "execution_count": 2,
      "outputs": [
        {
          "output_type": "stream",
          "text": [
            "hi\n"
          ],
          "name": "stdout"
        }
      ]
    },
    {
      "cell_type": "code",
      "metadata": {
        "id": "zr8B6gax6n9s",
        "colab_type": "code",
        "colab": {}
      },
      "source": [
        "test.append(\"hi\")\n",
        "print(test)"
      ],
      "execution_count": 0,
      "outputs": []
    },
    {
      "cell_type": "code",
      "metadata": {
        "id": "13C0iMwd6wt1",
        "colab_type": "code",
        "colab": {}
      },
      "source": [
        "test.extend([\"Jane\",\"Jack\"])\n",
        "test"
      ],
      "execution_count": 0,
      "outputs": []
    },
    {
      "cell_type": "code",
      "metadata": {
        "id": "h6DtqvWP63iT",
        "colab_type": "code",
        "colab": {}
      },
      "source": [
        "test.insert(0, 56)\n",
        "test"
      ],
      "execution_count": 0,
      "outputs": []
    },
    {
      "cell_type": "code",
      "metadata": {
        "id": "81xya2Q_7D2h",
        "colab_type": "code",
        "colab": {}
      },
      "source": [
        "test.remove(\"Jane\")\n",
        "test"
      ],
      "execution_count": 0,
      "outputs": []
    },
    {
      "cell_type": "code",
      "metadata": {
        "id": "9XLGFLKg7OW0",
        "colab_type": "code",
        "colab": {}
      },
      "source": [
        "print(test)\n",
        "test.index(\"Jack\")"
      ],
      "execution_count": 0,
      "outputs": []
    },
    {
      "cell_type": "code",
      "metadata": {
        "id": "w4AxRRhQ7Raf",
        "colab_type": "code",
        "colab": {}
      },
      "source": [
        "test.count(\"hi\")\n",
        "test"
      ],
      "execution_count": 0,
      "outputs": []
    },
    {
      "cell_type": "code",
      "metadata": {
        "id": "E_QVWWax7X2z",
        "colab_type": "code",
        "colab": {
          "base_uri": "https://localhost:8080/",
          "height": 34
        },
        "outputId": "c67aa6b9-d5c8-4bf3-af74-b11adb5a2622"
      },
      "source": [
        "test2 = [1,7,9,0,347,88,2,8.06]\n",
        "test2.sort()\n",
        "test2"
      ],
      "execution_count": 3,
      "outputs": [
        {
          "output_type": "execute_result",
          "data": {
            "text/plain": [
              "[0, 1, 2, 7, 8.06, 9, 88, 347]"
            ]
          },
          "metadata": {
            "tags": []
          },
          "execution_count": 3
        }
      ]
    },
    {
      "cell_type": "code",
      "metadata": {
        "id": "m0Rl8vJU7am3",
        "colab_type": "code",
        "colab": {}
      },
      "source": [
        ""
      ],
      "execution_count": 0,
      "outputs": []
    },
    {
      "cell_type": "code",
      "metadata": {
        "id": "y319MMlK7bu2",
        "colab_type": "code",
        "colab": {
          "base_uri": "https://localhost:8080/",
          "height": 34
        },
        "outputId": "9a17ae6e-83fd-4d46-ab05-f5ec465a6da9"
      },
      "source": [
        "test2.reverse()\n",
        "print(test2)"
      ],
      "execution_count": 4,
      "outputs": [
        {
          "output_type": "stream",
          "text": [
            "[347, 88, 9, 8.06, 7, 2, 1, 0]\n"
          ],
          "name": "stdout"
        }
      ]
    },
    {
      "cell_type": "code",
      "metadata": {
        "id": "Li1GFVYa7fOQ",
        "colab_type": "code",
        "colab": {}
      },
      "source": [
        "test.clear()\n",
        "test"
      ],
      "execution_count": 0,
      "outputs": []
    },
    {
      "cell_type": "code",
      "metadata": {
        "id": "U7B_53bg7gR6",
        "colab_type": "code",
        "colab": {}
      },
      "source": [
        "test2.clear()\n",
        "test"
      ],
      "execution_count": 0,
      "outputs": []
    },
    {
      "cell_type": "code",
      "metadata": {
        "id": "Mb5OzzPN7nYE",
        "colab_type": "code",
        "colab": {}
      },
      "source": [
        ""
      ],
      "execution_count": 0,
      "outputs": []
    }
  ]
}