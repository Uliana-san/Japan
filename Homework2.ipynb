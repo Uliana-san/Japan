{
  "nbformat": 4,
  "nbformat_minor": 0,
  "metadata": {
    "colab": {
      "name": "Untitled2.ipynb",
      "provenance": [],
      "include_colab_link": true
    },
    "kernelspec": {
      "name": "python3",
      "display_name": "Python 3"
    }
  },
  "cells": [
    {
      "cell_type": "markdown",
      "metadata": {
        "id": "view-in-github",
        "colab_type": "text"
      },
      "source": [
        "<a href=\"https://colab.research.google.com/github/Uliana-san/Japan/blob/master/Homework2.ipynb\" target=\"_parent\"><img src=\"https://colab.research.google.com/assets/colab-badge.svg\" alt=\"Open In Colab\"/></a>"
      ]
    },
    {
      "cell_type": "code",
      "metadata": {
        "id": "06yjZ6N6FAPr",
        "colab_type": "code",
        "colab": {
          "base_uri": "https://localhost:8080/",
          "height": 51
        },
        "outputId": "f7181e1b-35f9-4d11-aed4-8c35bdbe0103"
      },
      "source": [
        " # добавьте условие, чтобы если пользователь вводит число больше 10, мы говорили ему, что так нельзя\n",
        "\n",
        "# добавьте еще одно или два условия, чтобы датчик категорий усталости был еще точнее\n",
        "\n",
        "\n",
        "a = float(input(\"по шкале от 0 до 10, напишите, насколько Вы устали: \"))\n",
        "if a < 0.1:\n",
        "  print(\"Иди работай!\")\n",
        "elif a < 0.7:\n",
        "  print(\"Кажется, Вы совсем не устали\")\n",
        "elif 0.7 <= a <= 5.2:\n",
        "  print(\"Вы средненько устали\")\n",
        "elif 5.3 <= a <= 8.8:\n",
        "  print(\"Вы устали чуть сильнее\")\n",
        "elif 8.9 <= a <= 10:\n",
        "  print(\"Идите отдыхать!\")\n",
        "elif a > 10:\n",
        "  print(\"Число больше 10 вводить нельзя\")"
      ],
      "execution_count": 11,
      "outputs": [
        {
          "output_type": "stream",
          "text": [
            "по шкале от 0 до 10, напишите, насколько Вы устали: 10\n",
            "Идите отдыхать!\n"
          ],
          "name": "stdout"
        }
      ]
    },
    {
      "cell_type": "code",
      "metadata": {
        "id": "J9j4jeNIFTE7",
        "colab_type": "code",
        "colab": {
          "base_uri": "https://localhost:8080/",
          "height": 204
        },
        "outputId": "cab39ed9-0cbb-4b8d-876c-6d8d879a9ee2"
      },
      "source": [
        "i = 100\n",
        "while i > 0:\n",
        "  print(i)\n",
        "  i = i - 10\n",
        "print(\"done\")"
      ],
      "execution_count": 14,
      "outputs": [
        {
          "output_type": "stream",
          "text": [
            "100\n",
            "90\n",
            "80\n",
            "70\n",
            "60\n",
            "50\n",
            "40\n",
            "30\n",
            "20\n",
            "10\n",
            "done\n"
          ],
          "name": "stdout"
        }
      ]
    },
    {
      "cell_type": "code",
      "metadata": {
        "id": "1nLL93m3KWmQ",
        "colab_type": "code",
        "colab": {
          "base_uri": "https://localhost:8080/",
          "height": 34
        },
        "outputId": "8970ca76-7eba-4238-fc35-ae63bd51499c"
      },
      "source": [
        "import random\n",
        "excuses = [\"я устал\",\"я улетел к океану\",\"на улице холодно\",\"на улице жарко\", \n",
        "           \"я в отпуске\",\"у меня день рождения\",\"сегодня выходной\",\"мне надоело\",\n",
        "           \"я работаю из дома\",\"могу\",\"плохо себя чувствую\",\"не хочу\",\"у меня лапки\",\n",
        "           \"я в отпуске!\",\"на улице ураган\"]\n",
        "print(\"Сегодня я не иду на работу, потому что\",random.choice(excuses))"
      ],
      "execution_count": 15,
      "outputs": [
        {
          "output_type": "stream",
          "text": [
            "Сегодня я не иду на работу, потому что мне надоело\n"
          ],
          "name": "stdout"
        }
      ]
    },
    {
      "cell_type": "code",
      "metadata": {
        "id": "sjM-KtT4MdWY",
        "colab_type": "code",
        "colab": {}
      },
      "source": [
        ""
      ],
      "execution_count": 0,
      "outputs": []
    }
  ]
}