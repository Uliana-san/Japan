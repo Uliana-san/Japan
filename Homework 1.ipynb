{
  "nbformat": 4,
  "nbformat_minor": 0,
  "metadata": {
    "colab": {
      "name": "Welcome To Colaboratory",
      "provenance": [],
      "collapsed_sections": [],
      "include_colab_link": true
    },
    "kernelspec": {
      "display_name": "Python 3",
      "name": "python3"
    }
  },
  "cells": [
    {
      "cell_type": "markdown",
      "metadata": {
        "id": "view-in-github",
        "colab_type": "text"
      },
      "source": [
        "<a href=\"https://colab.research.google.com/github/Uliana-san/Japan/blob/master/Homework%201.ipynb\" target=\"_parent\"><img src=\"https://colab.research.google.com/assets/colab-badge.svg\" alt=\"Open In Colab\"/></a>"
      ]
    },
    {
      "cell_type": "code",
      "metadata": {
        "id": "NtyUOujEtWbg",
        "colab_type": "code",
        "colab": {
          "base_uri": "https://localhost:8080/",
          "height": 34
        },
        "outputId": "499de665-8a3e-4b78-caa8-9394f10d04ff"
      },
      "source": [
        "# задание 1\n",
        "# какие из этих строк можно конкатенировать? Какие умножать? Какие вычитать? Запишите все результаты, которые у Вас получились\n",
        "a = 23\n",
        "b = 34.02\n",
        "c = \"python is cool\"\n",
        "d = \"you are cool, too\"\n",
        "(23+34.02)\n",
        "(c+d)\n",
        "(a*b)\n",
        "(a-b)\n",
        "(b-a)\n",
        "\n"
      ],
      "execution_count": 1,
      "outputs": [
        {
          "output_type": "execute_result",
          "data": {
            "text/plain": [
              "11.020000000000003"
            ]
          },
          "metadata": {
            "tags": []
          },
          "execution_count": 1
        }
      ]
    },
    {
      "cell_type": "code",
      "metadata": {
        "id": "7UKNzPvZz7FJ",
        "colab_type": "code",
        "colab": {
          "base_uri": "https://localhost:8080/",
          "height": 34
        },
        "outputId": "237cd002-b7f7-4f82-b87f-1e1a906f18be"
      },
      "source": [
        "# задание 2\n",
        "\"\"\"\n",
        "Придумайте такую строку (на любом знакомом Вам языке),чтобы она состояла из трех других (повторы строки разрешены).\n",
        "Напишите код. Если вы можете сделать это более, чем одним способом, напишите все способы\"\"\"\n",
        "\n",
        "a = \"difficult\"\n",
        "p = a*3\n",
        "print(p)"
      ],
      "execution_count": 2,
      "outputs": [
        {
          "output_type": "stream",
          "text": [
            "difficultdifficultdifficult\n"
          ],
          "name": "stdout"
        }
      ]
    },
    {
      "cell_type": "code",
      "metadata": {
        "id": "IkgkvWhl0IDH",
        "colab_type": "code",
        "colab": {
          "base_uri": "https://localhost:8080/",
          "height": 34
        },
        "outputId": "032a626b-389c-428a-e2b8-3deb2ba3d900"
      },
      "source": [
        "a = \"difficult\"\n",
        "p = a*2 + a\n",
        "print(p)"
      ],
      "execution_count": 3,
      "outputs": [
        {
          "output_type": "stream",
          "text": [
            "difficultdifficultdifficult\n"
          ],
          "name": "stdout"
        }
      ]
    },
    {
      "cell_type": "code",
      "metadata": {
        "id": "qjPqtxdb0U7w",
        "colab_type": "code",
        "colab": {
          "base_uri": "https://localhost:8080/",
          "height": 34
        },
        "outputId": "a665d2d4-29fc-4309-ac67-953a19a6a5a8"
      },
      "source": [
        "a = \"difficult\"\n",
        "print(a + a + a)"
      ],
      "execution_count": 4,
      "outputs": [
        {
          "output_type": "stream",
          "text": [
            "difficultdifficultdifficult\n"
          ],
          "name": "stdout"
        }
      ]
    },
    {
      "cell_type": "code",
      "metadata": {
        "id": "jMrlAlk50ccA",
        "colab_type": "code",
        "colab": {
          "base_uri": "https://localhost:8080/",
          "height": 119
        },
        "outputId": "73bf9e78-1c2e-4eec-a845-aa48c78960a4"
      },
      "source": [
        "# задание 3\n",
        "\"\"\"\n",
        "Как из слова \"апельсин\" сделать слово \"спаниель\" ? \n",
        "Подсказка: вам помогут срезы и операции с индексами\n",
        "\"\"\"\n",
        "\n",
        "a = \"апельсин\"\n",
        "print(a)\n",
        "print(a[5])\n",
        "print(a[2:5])\n",
        "print(a[1::-1])\n",
        "print(a[-1:-3:-1])\n",
        "a = a[5]+a[1::-1]+a[-1:-3:-1]+a[2:5]\n",
        "print(a)\n",
        "\n"
      ],
      "execution_count": 5,
      "outputs": [
        {
          "output_type": "stream",
          "text": [
            "апельсин\n",
            "с\n",
            "ель\n",
            "па\n",
            "ни\n",
            "спаниель\n"
          ],
          "name": "stdout"
        }
      ]
    },
    {
      "cell_type": "code",
      "metadata": {
        "id": "TM1hYQJA0kxL",
        "colab_type": "code",
        "colab": {}
      },
      "source": [
        ""
      ],
      "execution_count": 0,
      "outputs": []
    }
  ]
}