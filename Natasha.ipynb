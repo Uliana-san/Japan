{
  "nbformat": 4,
  "nbformat_minor": 0,
  "metadata": {
    "colab": {
      "name": "Untitled28.ipynb",
      "provenance": [],
      "authorship_tag": "ABX9TyMg3rDu/9Zu/aEeJSUv3PoI",
      "include_colab_link": true
    },
    "kernelspec": {
      "name": "python3",
      "display_name": "Python 3"
    }
  },
  "cells": [
    {
      "cell_type": "markdown",
      "metadata": {
        "id": "view-in-github",
        "colab_type": "text"
      },
      "source": [
        "<a href=\"https://colab.research.google.com/github/Uliana-san/Japan/blob/master/Natasha.ipynb\" target=\"_parent\"><img src=\"https://colab.research.google.com/assets/colab-badge.svg\" alt=\"Open In Colab\"/></a>"
      ]
    },
    {
      "cell_type": "code",
      "metadata": {
        "id": "axW0dc-kyPlq",
        "colab_type": "code",
        "colab": {
          "base_uri": "https://localhost:8080/",
          "height": 564
        },
        "outputId": "4abc5d01-55a9-47a7-a772-75568b1cd26b"
      },
      "source": [
        "!pip install natasha\n",
        "!pip install yargy\n",
        "!pip install ipymarkup"
      ],
      "execution_count": 1,
      "outputs": [
        {
          "output_type": "stream",
          "text": [
            "Collecting natasha\n",
            "\u001b[?25l  Downloading https://files.pythonhosted.org/packages/4b/9d/3330c5a8c98f45a6f090cc8bfaa1132a58ead75cedec5ac758b2999bf34c/natasha-0.10.0-py2.py3-none-any.whl (777kB)\n",
            "\u001b[K     |████████████████████████████████| 778kB 2.9MB/s \n",
            "\u001b[?25hCollecting yargy\n",
            "\u001b[?25l  Downloading https://files.pythonhosted.org/packages/37/64/d6abf637228bed6b0249b522f588d19dca9f09ab65db13bef41096f51889/yargy-0.12.0-py2.py3-none-any.whl (41kB)\n",
            "\u001b[K     |████████████████████████████████| 51kB 6.7MB/s \n",
            "\u001b[?25hCollecting pymorphy2==0.8\n",
            "\u001b[?25l  Downloading https://files.pythonhosted.org/packages/a3/33/fff9675c68b5f6c63ec8c6e6ff57827dda28a1fa5b2c2d727dffff92dd47/pymorphy2-0.8-py2.py3-none-any.whl (46kB)\n",
            "\u001b[K     |████████████████████████████████| 51kB 6.0MB/s \n",
            "\u001b[?25hCollecting backports.functools-lru-cache==1.3\n",
            "  Downloading https://files.pythonhosted.org/packages/d4/40/0b1db94fdfd71353ae67ec444ff28e0a7ecc25212d1cb94c291b6cd226f9/backports.functools_lru_cache-1.3-py2.py3-none-any.whl\n",
            "Collecting pymorphy2-dicts<3.0,>=2.4\n",
            "\u001b[?25l  Downloading https://files.pythonhosted.org/packages/02/51/2465fd4f72328ab50877b54777764d928da8cb15b74e2680fc1bd8cb3173/pymorphy2_dicts-2.4.393442.3710985-py2.py3-none-any.whl (7.1MB)\n",
            "\u001b[K     |████████████████████████████████| 7.1MB 48.4MB/s \n",
            "\u001b[?25hCollecting dawg-python>=0.7\n",
            "  Downloading https://files.pythonhosted.org/packages/6a/84/ff1ce2071d4c650ec85745766c0047ccc3b5036f1d03559fd46bb38b5eeb/DAWG_Python-0.7.2-py2.py3-none-any.whl\n",
            "Requirement already satisfied: docopt>=0.6 in /usr/local/lib/python3.6/dist-packages (from pymorphy2==0.8->yargy->natasha) (0.6.2)\n",
            "Installing collected packages: pymorphy2-dicts, dawg-python, pymorphy2, backports.functools-lru-cache, yargy, natasha\n",
            "Successfully installed backports.functools-lru-cache-1.3 dawg-python-0.7.2 natasha-0.10.0 pymorphy2-0.8 pymorphy2-dicts-2.4.393442.3710985 yargy-0.12.0\n",
            "Requirement already satisfied: yargy in /usr/local/lib/python3.6/dist-packages (0.12.0)\n",
            "Requirement already satisfied: pymorphy2==0.8 in /usr/local/lib/python3.6/dist-packages (from yargy) (0.8)\n",
            "Requirement already satisfied: backports.functools-lru-cache==1.3 in /usr/local/lib/python3.6/dist-packages (from yargy) (1.3)\n",
            "Requirement already satisfied: pymorphy2-dicts<3.0,>=2.4 in /usr/local/lib/python3.6/dist-packages (from pymorphy2==0.8->yargy) (2.4.393442.3710985)\n",
            "Requirement already satisfied: docopt>=0.6 in /usr/local/lib/python3.6/dist-packages (from pymorphy2==0.8->yargy) (0.6.2)\n",
            "Requirement already satisfied: dawg-python>=0.7 in /usr/local/lib/python3.6/dist-packages (from pymorphy2==0.8->yargy) (0.7.2)\n",
            "Collecting ipymarkup\n",
            "  Downloading https://files.pythonhosted.org/packages/d8/29/eaa1bcf649d6333dea829c05577c67f881d0555b6d77c1da72afda5c847d/ipymarkup-0.5.0-py2.py3-none-any.whl\n",
            "Requirement already satisfied: intervaltree==2.1.0 in /usr/local/lib/python3.6/dist-packages (from ipymarkup) (2.1.0)\n",
            "Requirement already satisfied: sortedcontainers in /usr/local/lib/python3.6/dist-packages (from intervaltree==2.1.0->ipymarkup) (2.1.0)\n",
            "Installing collected packages: ipymarkup\n",
            "Successfully installed ipymarkup-0.5.0\n"
          ],
          "name": "stdout"
        }
      ]
    },
    {
      "cell_type": "code",
      "metadata": {
        "id": "xrjZcRebWTg4",
        "colab_type": "code",
        "colab": {}
      },
      "source": [
        "#устанавливаем генератор случайных чисел; \n",
        "from random import sample\n",
        "from random import seed as random_seed\n",
        "#загружаем уже готовые экстракторы для разных типов сущностей\n",
        "from natasha import NamesExtractor, AddressExtractor, MoneyExtractor, OrganisationExtractor, DatesExtractor, LocationExtractor\n",
        "from natasha.markup import show_markup, show_json"
      ],
      "execution_count": 0,
      "outputs": []
    },
    {
      "cell_type": "code",
      "metadata": {
        "id": "AOyA7oc6WeWK",
        "colab_type": "code",
        "colab": {}
      },
      "source": [
        "NamX = NamesExtractor()\n",
        "AddrX =  AddressExtractor()\n",
        "MonX = MoneyExtractor()\n",
        "OrgX = OrganisationExtractor()\n",
        "DtX = DatesExtractor()\n",
        "LocX = LocationExtractor()"
      ],
      "execution_count": 0,
      "outputs": []
    },
    {
      "cell_type": "code",
      "metadata": {
        "id": "MN5V6dJQWgyc",
        "colab_type": "code",
        "colab": {
          "base_uri": "https://localhost:8080/",
          "height": 102
        },
        "outputId": "e20cad91-cc3a-4e67-9f83-fc2ece385909"
      },
      "source": [
        "text = \"МГУ ругал Анну Васильевну и Машу по адресу ул. Вавилова, 12 за то, что они потеряли 100 руб. 25.02 в 2014 году\"\n",
        "n_matches = NamX(text)\n",
        "ad_matches = AddrX(text)\n",
        "org_matches = OrgX(text)\n",
        "for match in n_matches:\n",
        "    print(match.span, match.fact)\n",
        "for match in ad_matches:\n",
        "    print(match.span, match.fact)\n",
        "for match in org_matches:\n",
        "    print(match.span, match.fact)"
      ],
      "execution_count": 15,
      "outputs": [
        {
          "output_type": "stream",
          "text": [
            "[11, 26) Name(first='анна', middle='василиевна', last=None, nick=None)\n",
            "[29, 33) Name(first='маша', middle=None, last=None, nick=None)\n",
            "[48, 56) Name(first=None, middle=None, last='вавилов', nick=None)\n",
            "[44, 60) Address(parts=[Street(name='Вавилова', type='улица'), Building(number='12', type=None)])\n",
            "[0, 4) Organisation(name='МГТУ')\n"
          ],
          "name": "stdout"
        }
      ]
    },
    {
      "cell_type": "code",
      "metadata": {
        "id": "AHXbWhaWWtFY",
        "colab_type": "code",
        "colab": {
          "base_uri": "https://localhost:8080/",
          "height": 119
        },
        "outputId": "8d62d17f-db51-4a53-ae20-582a24441a2b"
      },
      "source": [
        "%cd /content\n",
        "!git clone https://github.com/natasha/natasha-examples.git\n",
        "%cd natasha-examples/02_sad"
      ],
      "execution_count": 6,
      "outputs": [
        {
          "output_type": "stream",
          "text": [
            "/content\n",
            "Cloning into 'natasha-examples'...\n",
            "remote: Enumerating objects: 54, done.\u001b[K\n",
            "remote: Total 54 (delta 0), reused 0 (delta 0), pack-reused 54\u001b[K\n",
            "Unpacking objects: 100% (54/54), done.\n",
            "/content/natasha-examples/02_sad\n"
          ],
          "name": "stdout"
        }
      ]
    }
  ]
}