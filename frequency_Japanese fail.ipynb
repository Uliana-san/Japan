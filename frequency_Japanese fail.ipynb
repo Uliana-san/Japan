{
  "nbformat": 4,
  "nbformat_minor": 0,
  "metadata": {
    "colab": {
      "name": "Untitled29.ipynb",
      "provenance": [],
      "authorship_tag": "ABX9TyPZRJ8szVWrhBM5blX0kU36",
      "include_colab_link": true
    },
    "kernelspec": {
      "name": "python3",
      "display_name": "Python 3"
    }
  },
  "cells": [
    {
      "cell_type": "markdown",
      "metadata": {
        "id": "view-in-github",
        "colab_type": "text"
      },
      "source": [
        "<a href=\"https://colab.research.google.com/github/Uliana-san/Japan/blob/master/frequency_Japanese%20fail.ipynb\" target=\"_parent\"><img src=\"https://colab.research.google.com/assets/colab-badge.svg\" alt=\"Open In Colab\"/></a>"
      ]
    },
    {
      "cell_type": "code",
      "metadata": {
        "id": "EOkehPpImlfQ",
        "colab_type": "code",
        "colab": {}
      },
      "source": [
        "from collections import defaultdict as dd\n",
        "from operator import itemgetter\n"
      ],
      "execution_count": 0,
      "outputs": []
    },
    {
      "cell_type": "code",
      "metadata": {
        "id": "kTvoKHqbmwrR",
        "colab_type": "code",
        "colab": {}
      },
      "source": [
        "# wordcloud stuff\n",
        "\n",
        "import matplotlib.pyplot as plt\n",
        "from wordcloud import WordCloud\n",
        "\n",
        "def show_wordcloud_by_freq_dict(freq_dict):\n",
        "    wordcloud = WordCloud()\n",
        "    wordcloud.generate_from_frequencies(frequencies=freq_dict)\n",
        "    plt.figure()\n",
        "    plt.imshow(wordcloud, interpolation=\"bilinear\")\n",
        "    plt.axis(\"off\")\n",
        "    plt.show()\n"
      ],
      "execution_count": 0,
      "outputs": []
    },
    {
      "cell_type": "code",
      "metadata": {
        "id": "Ruc6Dh3rm0uj",
        "colab_type": "code",
        "colab": {}
      },
      "source": [
        "kotonoha1 = '''８４）　平成６年７月１日発行「長崎の碑（いしぶみ）　第２集」１２９〜１４２頁に\n",
        "市南公民館の研究グループ「どじょう会」が行った長崎の外国人居留地跡標石（境石・地\n",
        "西の５大私鉄で景気がいい順を教えて！！関西の電車ではないけど、九州のバスはダメ\n",
        "県営バスに「準急」がありました！今でもあるのかな？\n",
        "島原城が見えます。この日は、長崎駅で買った　ミニ肉まん　６０円　Ｘ　２コ　を\n",
        "本線の中で食べただけ。島原駅に着いたのは、１時頃だったので、お腹が減ってきて、ま\n",
        "結構自転車乗れない人多いです。私は一応乗れますけど。乗る機会がないんですよねぇ\n",
        "でも大村とか諫早とか行くと平地が多くてうらやましい。市内は平地とかあんまりないか\n",
        "とんど長女の私が出しましたが・・・私以外学生でしたので）、両親が新婚旅行で行った\n",
        "での宿泊をプレゼントしました。母がハウステンボスには一回行ってみたい、と常々言っ\n",
        "栃木ＡＢ型】【１７４位９０点徳島Ｏ型】【１７５位８４点福島Ｏ型】【１７６位８０点\n",
        "軌道　３７３　は、１９６１年に日本車輌にて７両が製造、３７０形は１９６２年に日本\n",
        "Ｂ型】【１７７位７８点長野Ｂ型】【１７８位７７点愛媛Ａ型】【１７９位６４点大分Ａ\n",
        "車広場があり、山崎の石塁（勘次が城）は、井坑からまだ２ｋｍ先の海岸部となる\n",
        "県ＨＰ「長崎県の文化財」及び五島市観光協会ＨＰ「五島市観光情報サイト　五島」によ\n",
        "すれば、街にホームレスがあふれることになるかもしれません。・銃刀法の規制規制強化\n",
        "の銃撃事件でこのあたりの問題は認識されています。銃刀法に関するあいまいな運用は性\n",
        "う。帯広付近には旭川・釧路の２都市があるが、その都市間には何も無い。雲仙からなら\n",
        "市と佐賀市があり、そこまでの間にも小さな町がたくさんある。雲仙は山と港、帯広は平'''\n"
      ],
      "execution_count": 0,
      "outputs": []
    },
    {
      "cell_type": "code",
      "metadata": {
        "id": "_okAVmDepn2C",
        "colab_type": "code",
        "colab": {
          "base_uri": "https://localhost:8080/",
          "height": 340
        },
        "outputId": "51061e85-78c2-4d0e-daff-41ced45eeb1d"
      },
      "source": [
        "print(kotonoha1)"
      ],
      "execution_count": 8,
      "outputs": [
        {
          "output_type": "stream",
          "text": [
            "８４）　平成６年７月１日発行「長崎の碑（いしぶみ）　第２集」１２９〜１４２頁に\n",
            "市南公民館の研究グループ「どじょう会」が行った長崎の外国人居留地跡標石（境石・地\n",
            "西の５大私鉄で景気がいい順を教えて！！関西の電車ではないけど、九州のバスはダメ\n",
            "県営バスに「準急」がありました！今でもあるのかな？\n",
            "島原城が見えます。この日は、長崎駅で買った　ミニ肉まん　６０円　Ｘ　２コ　を\n",
            "本線の中で食べただけ。島原駅に着いたのは、１時頃だったので、お腹が減ってきて、ま\n",
            "結構自転車乗れない人多いです。私は一応乗れますけど。乗る機会がないんですよねぇ\n",
            "でも大村とか諫早とか行くと平地が多くてうらやましい。市内は平地とかあんまりないか\n",
            "とんど長女の私が出しましたが・・・私以外学生でしたので）、両親が新婚旅行で行った\n",
            "での宿泊をプレゼントしました。母がハウステンボスには一回行ってみたい、と常々言っ\n",
            "栃木ＡＢ型】【１７４位９０点徳島Ｏ型】【１７５位８４点福島Ｏ型】【１７６位８０点\n",
            "軌道　３７３　は、１９６１年に日本車輌にて７両が製造、３７０形は１９６２年に日本\n",
            "Ｂ型】【１７７位７８点長野Ｂ型】【１７８位７７点愛媛Ａ型】【１７９位６４点大分Ａ\n",
            "車広場があり、山崎の石塁（勘次が城）は、井坑からまだ２ｋｍ先の海岸部となる\n",
            "県ＨＰ「長崎県の文化財」及び五島市観光協会ＨＰ「五島市観光情報サイト　五島」によ\n",
            "すれば、街にホームレスがあふれることになるかもしれません。・銃刀法の規制規制強化\n",
            "の銃撃事件でこのあたりの問題は認識されています。銃刀法に関するあいまいな運用は性\n",
            "う。帯広付近には旭川・釧路の２都市があるが、その都市間には何も無い。雲仙からなら\n",
            "市と佐賀市があり、そこまでの間にも小さな町がたくさんある。雲仙は山と港、帯広は平\n"
          ],
          "name": "stdout"
        }
      ]
    },
    {
      "cell_type": "code",
      "metadata": {
        "id": "v2TMEzI-o3NX",
        "colab_type": "code",
        "colab": {
          "base_uri": "https://localhost:8080/",
          "height": 691
        },
        "outputId": "927cc04a-cad7-47c3-b488-af84ae760a0c"
      },
      "source": [
        "text_words_frequencies = dd(int) # это копируем\n",
        "        \n",
        "kotonoha1_tokenized = kotonoha1.split() # вместо название переменной где лежит текст\n",
        "for word in kotonoha1_tokenized:\n",
        "  text_words_frequencies[word] += 1 / len(kotonoha1_tokenized)\n",
        "\n",
        "sorted_frequency_table = sorted(text_words_frequencies.items(), \n",
        "                                        key=itemgetter(1), reverse=True)    \n",
        "        \n",
        "for word, freq in sorted_frequency_table[:10]:\n",
        "  print('\\t'.join((word, str(freq))))\n",
        "        \n",
        "show_wordcloud_by_freq_dict(text_words_frequencies)\n",
        "print(kotonoha1)"
      ],
      "execution_count": 9,
      "outputs": [
        {
          "output_type": "stream",
          "text": [
            "８４）\t0.034482758620689655\n",
            "平成６年７月１日発行「長崎の碑（いしぶみ）\t0.034482758620689655\n",
            "第２集」１２９〜１４２頁に\t0.034482758620689655\n",
            "市南公民館の研究グループ「どじょう会」が行った長崎の外国人居留地跡標石（境石・地\t0.034482758620689655\n",
            "西の５大私鉄で景気がいい順を教えて！！関西の電車ではないけど、九州のバスはダメ\t0.034482758620689655\n",
            "県営バスに「準急」がありました！今でもあるのかな？\t0.034482758620689655\n",
            "島原城が見えます。この日は、長崎駅で買った\t0.034482758620689655\n",
            "ミニ肉まん\t0.034482758620689655\n",
            "６０円\t0.034482758620689655\n",
            "Ｘ\t0.034482758620689655\n"
          ],
          "name": "stdout"
        },
        {
          "output_type": "display_data",
          "data": {
            "image/png": "[encoded data removed]",
            "text/plain": [
              "<Figure size 432x288 with 1 Axes>"
            ]
          },
          "metadata": {
            "tags": []
          }
        },
        {
          "output_type": "stream",
          "text": [
            "８４）　平成６年７月１日発行「長崎の碑（いしぶみ）　第２集」１２９〜１４２頁に\n",
            "市南公民館の研究グループ「どじょう会」が行った長崎の外国人居留地跡標石（境石・地\n",
            "西の５大私鉄で景気がいい順を教えて！！関西の電車ではないけど、九州のバスはダメ\n",
            "県営バスに「準急」がありました！今でもあるのかな？\n",
            "島原城が見えます。この日は、長崎駅で買った　ミニ肉まん　６０円　Ｘ　２コ　を\n",
            "本線の中で食べただけ。島原駅に着いたのは、１時頃だったので、お腹が減ってきて、ま\n",
            "結構自転車乗れない人多いです。私は一応乗れますけど。乗る機会がないんですよねぇ\n",
            "でも大村とか諫早とか行くと平地が多くてうらやましい。市内は平地とかあんまりないか\n",
            "とんど長女の私が出しましたが・・・私以外学生でしたので）、両親が新婚旅行で行った\n",
            "での宿泊をプレゼントしました。母がハウステンボスには一回行ってみたい、と常々言っ\n",
            "栃木ＡＢ型】【１７４位９０点徳島Ｏ型】【１７５位８４点福島Ｏ型】【１７６位８０点\n",
            "軌道　３７３　は、１９６１年に日本車輌にて７両が製造、３７０形は１９６２年に日本\n",
            "Ｂ型】【１７７位７８点長野Ｂ型】【１７８位７７点愛媛Ａ型】【１７９位６４点大分Ａ\n",
            "車広場があり、山崎の石塁（勘次が城）は、井坑からまだ２ｋｍ先の海岸部となる\n",
            "県ＨＰ「長崎県の文化財」及び五島市観光協会ＨＰ「五島市観光情報サイト　五島」によ\n",
            "すれば、街にホームレスがあふれることになるかもしれません。・銃刀法の規制規制強化\n",
            "の銃撃事件でこのあたりの問題は認識されています。銃刀法に関するあいまいな運用は性\n",
            "う。帯広付近には旭川・釧路の２都市があるが、その都市間には何も無い。雲仙からなら\n",
            "市と佐賀市があり、そこまでの間にも小さな町がたくさんある。雲仙は山と港、帯広は平\n"
          ],
          "name": "stdout"
        }
      ]
    }
  ]
}